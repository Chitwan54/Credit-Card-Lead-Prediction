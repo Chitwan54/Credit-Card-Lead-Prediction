{
  "nbformat": 4,
  "nbformat_minor": 0,
  "metadata": {
    "accelerator": "GPU",
    "colab": {
      "name": "Job-A-Thon: Credit Card Lead Prediction",
      "provenance": []
    },
    "kernelspec": {
      "display_name": "Python 3",
      "name": "python3"
    },
    "language_info": {
      "name": "python"
    }
  },
  "cells": [
    {
      "cell_type": "markdown",
      "metadata": {
        "id": "NJfBxoaw3Fni"
      },
      "source": [
        "# Import the data"
      ]
    },
    {
      "cell_type": "code",
      "metadata": {
        "colab": {
          "base_uri": "https://localhost:8080/"
        },
        "id": "1M2a3onr2Rq0",
        "outputId": "9c23d2ed-128a-49c9-c226-d96dcb708c65"
      },
      "source": [
        "!wget https://www.dropbox.com/sh/ld6fx87zdvlwxiz/AACbD2hgIL5CCzEY19nvXbpDa?dl=0 # Import the data from dropbox"
      ],
      "execution_count": null,
      "outputs": [
        {
          "output_type": "stream",
          "text": [
            "--2021-05-29 11:12:08--  https://www.dropbox.com/sh/ld6fx87zdvlwxiz/AACbD2hgIL5CCzEY19nvXbpDa?dl=0\n",
            "Resolving www.dropbox.com (www.dropbox.com)... 162.125.80.18, 2620:100:6030:18::a27d:5012\n",
            "Connecting to www.dropbox.com (www.dropbox.com)|162.125.80.18|:443... connected.\n",
            "HTTP request sent, awaiting response... 301 Moved Permanently\n",
            "Location: /sh/raw/ld6fx87zdvlwxiz/AACbD2hgIL5CCzEY19nvXbpDa [following]\n",
            "--2021-05-29 11:12:08--  https://www.dropbox.com/sh/raw/ld6fx87zdvlwxiz/AACbD2hgIL5CCzEY19nvXbpDa\n",
            "Reusing existing connection to www.dropbox.com:443.\n",
            "HTTP request sent, awaiting response... 302 Found\n",
            "Location: https://ucfbf19d254e8af0756d54ffea12.dl.dropboxusercontent.com/zip_download_get/AyxN9L0LWqE-BvdsbdcWpA0EKwH0Qd_K61Y4Mpiq1QDLSoi7HQPsyFZ_tkP_-i6cKBqi_LSpgmt_qFoBprU3FNUPhq63v52n9bzyRufmFtNoOA# [following]\n",
            "--2021-05-29 11:12:09--  https://ucfbf19d254e8af0756d54ffea12.dl.dropboxusercontent.com/zip_download_get/AyxN9L0LWqE-BvdsbdcWpA0EKwH0Qd_K61Y4Mpiq1QDLSoi7HQPsyFZ_tkP_-i6cKBqi_LSpgmt_qFoBprU3FNUPhq63v52n9bzyRufmFtNoOA\n",
            "Resolving ucfbf19d254e8af0756d54ffea12.dl.dropboxusercontent.com (ucfbf19d254e8af0756d54ffea12.dl.dropboxusercontent.com)... 162.125.80.15, 2620:100:6032:15::a27d:520f\n",
            "Connecting to ucfbf19d254e8af0756d54ffea12.dl.dropboxusercontent.com (ucfbf19d254e8af0756d54ffea12.dl.dropboxusercontent.com)|162.125.80.15|:443... connected.\n",
            "HTTP request sent, awaiting response... 200 OK\n",
            "Length: 20638197 (20M) [application/zip]\n",
            "Saving to: ‘AACbD2hgIL5CCzEY19nvXbpDa?dl=0’\n",
            "\n",
            "AACbD2hgIL5CCzEY19n 100%[===================>]  19.68M  18.3MB/s    in 1.1s    \n",
            "\n",
            "2021-05-29 11:12:11 (18.3 MB/s) - ‘AACbD2hgIL5CCzEY19nvXbpDa?dl=0’ saved [20638197/20638197]\n",
            "\n"
          ],
          "name": "stdout"
        }
      ]
    },
    {
      "cell_type": "code",
      "metadata": {
        "colab": {
          "base_uri": "https://localhost:8080/"
        },
        "id": "7wgZCH0O3P5o",
        "outputId": "259693e7-d02d-418f-f630-43acfc4f6115"
      },
      "source": [
        "!unzip /content/AACbD2hgIL5CCzEY19nvXbpDa?dl=0 # unzip the data"
      ],
      "execution_count": null,
      "outputs": [
        {
          "output_type": "stream",
          "text": [
            "Archive:  /content/AACbD2hgIL5CCzEY19nvXbpDa?dl=0\n",
            "warning:  stripped absolute path spec from /\n",
            "mapname:  conversion of  failed\n",
            " extracting: test_mSzZ8RL.csv        \n",
            " extracting: train_s3TEQDk.csv       \n",
            " extracting: sample_submission_eyYijxG.csv  \n",
            "\n",
            "1 archive had fatal errors.\n"
          ],
          "name": "stdout"
        }
      ]
    },
    {
      "cell_type": "markdown",
      "metadata": {
        "id": "BJ9B2jK93qs-"
      },
      "source": [
        "# Load the Data"
      ]
    },
    {
      "cell_type": "code",
      "metadata": {
        "id": "P5Upbybl3rvf"
      },
      "source": [
        "# Import basic modules\n",
        "import pandas as pd\n",
        "import numpy as np\n",
        "import matplotlib.pyplot as plt\n",
        "import plotly.express as px\n",
        "import seaborn as sns"
      ],
      "execution_count": null,
      "outputs": []
    },
    {
      "cell_type": "code",
      "metadata": {
        "id": "32fkawg_324x"
      },
      "source": [
        "train = pd.read_csv(\"/content/train_s3TEQDk.csv\") # Read the train file\n",
        "test = pd.read_csv(\"/content/test_mSzZ8RL.csv\") # Read the test file"
      ],
      "execution_count": null,
      "outputs": []
    },
    {
      "cell_type": "code",
      "metadata": {
        "colab": {
          "base_uri": "https://localhost:8080/"
        },
        "id": "S6pAaCYh4AaD",
        "outputId": "0d65f2e5-ba09-4b21-f624-08ab0cf1bb0a"
      },
      "source": [
        "# Show first 10 rows of training set\n",
        "train.head(10)"
      ],
      "execution_count": null,
      "outputs": [
        {
          "output_type": "execute_result",
          "data": {
            "text/html": [
              "<div>\n",
              "<style scoped>\n",
              "    .dataframe tbody tr th:only-of-type {\n",
              "        vertical-align: middle;\n",
              "    }\n",
              "\n",
              "    .dataframe tbody tr th {\n",
              "        vertical-align: top;\n",
              "    }\n",
              "\n",
              "    .dataframe thead th {\n",
              "        text-align: right;\n",
              "    }\n",
              "</style>\n",
              "<table border=\"1\" class=\"dataframe\">\n",
              "  <thead>\n",
              "    <tr style=\"text-align: right;\">\n",
              "      <th></th>\n",
              "      <th>ID</th>\n",
              "      <th>Gender</th>\n",
              "      <th>Age</th>\n",
              "      <th>Region_Code</th>\n",
              "      <th>Occupation</th>\n",
              "      <th>Channel_Code</th>\n",
              "      <th>Vintage</th>\n",
              "      <th>Credit_Product</th>\n",
              "      <th>Avg_Account_Balance</th>\n",
              "      <th>Is_Active</th>\n",
              "      <th>Is_Lead</th>\n",
              "    </tr>\n",
              "  </thead>\n",
              "  <tbody>\n",
              "    <tr>\n",
              "      <th>0</th>\n",
              "      <td>NNVBBKZB</td>\n",
              "      <td>Female</td>\n",
              "      <td>73</td>\n",
              "      <td>RG268</td>\n",
              "      <td>Other</td>\n",
              "      <td>X3</td>\n",
              "      <td>43</td>\n",
              "      <td>No</td>\n",
              "      <td>1045696</td>\n",
              "      <td>No</td>\n",
              "      <td>0</td>\n",
              "    </tr>\n",
              "    <tr>\n",
              "      <th>1</th>\n",
              "      <td>IDD62UNG</td>\n",
              "      <td>Female</td>\n",
              "      <td>30</td>\n",
              "      <td>RG277</td>\n",
              "      <td>Salaried</td>\n",
              "      <td>X1</td>\n",
              "      <td>32</td>\n",
              "      <td>No</td>\n",
              "      <td>581988</td>\n",
              "      <td>No</td>\n",
              "      <td>0</td>\n",
              "    </tr>\n",
              "    <tr>\n",
              "      <th>2</th>\n",
              "      <td>HD3DSEMC</td>\n",
              "      <td>Female</td>\n",
              "      <td>56</td>\n",
              "      <td>RG268</td>\n",
              "      <td>Self_Employed</td>\n",
              "      <td>X3</td>\n",
              "      <td>26</td>\n",
              "      <td>No</td>\n",
              "      <td>1484315</td>\n",
              "      <td>Yes</td>\n",
              "      <td>0</td>\n",
              "    </tr>\n",
              "    <tr>\n",
              "      <th>3</th>\n",
              "      <td>BF3NC7KV</td>\n",
              "      <td>Male</td>\n",
              "      <td>34</td>\n",
              "      <td>RG270</td>\n",
              "      <td>Salaried</td>\n",
              "      <td>X1</td>\n",
              "      <td>19</td>\n",
              "      <td>No</td>\n",
              "      <td>470454</td>\n",
              "      <td>No</td>\n",
              "      <td>0</td>\n",
              "    </tr>\n",
              "    <tr>\n",
              "      <th>4</th>\n",
              "      <td>TEASRWXV</td>\n",
              "      <td>Female</td>\n",
              "      <td>30</td>\n",
              "      <td>RG282</td>\n",
              "      <td>Salaried</td>\n",
              "      <td>X1</td>\n",
              "      <td>33</td>\n",
              "      <td>No</td>\n",
              "      <td>886787</td>\n",
              "      <td>No</td>\n",
              "      <td>0</td>\n",
              "    </tr>\n",
              "    <tr>\n",
              "      <th>5</th>\n",
              "      <td>ACUTYTWS</td>\n",
              "      <td>Male</td>\n",
              "      <td>56</td>\n",
              "      <td>RG261</td>\n",
              "      <td>Self_Employed</td>\n",
              "      <td>X1</td>\n",
              "      <td>32</td>\n",
              "      <td>No</td>\n",
              "      <td>544163</td>\n",
              "      <td>Yes</td>\n",
              "      <td>0</td>\n",
              "    </tr>\n",
              "    <tr>\n",
              "      <th>6</th>\n",
              "      <td>ETQCZFEJ</td>\n",
              "      <td>Male</td>\n",
              "      <td>62</td>\n",
              "      <td>RG282</td>\n",
              "      <td>Other</td>\n",
              "      <td>X3</td>\n",
              "      <td>20</td>\n",
              "      <td>NaN</td>\n",
              "      <td>1056750</td>\n",
              "      <td>Yes</td>\n",
              "      <td>1</td>\n",
              "    </tr>\n",
              "    <tr>\n",
              "      <th>7</th>\n",
              "      <td>JJNJUQMQ</td>\n",
              "      <td>Female</td>\n",
              "      <td>48</td>\n",
              "      <td>RG265</td>\n",
              "      <td>Self_Employed</td>\n",
              "      <td>X3</td>\n",
              "      <td>13</td>\n",
              "      <td>No</td>\n",
              "      <td>444724</td>\n",
              "      <td>Yes</td>\n",
              "      <td>0</td>\n",
              "    </tr>\n",
              "    <tr>\n",
              "      <th>8</th>\n",
              "      <td>ZMQFYKCB</td>\n",
              "      <td>Female</td>\n",
              "      <td>40</td>\n",
              "      <td>RG283</td>\n",
              "      <td>Self_Employed</td>\n",
              "      <td>X2</td>\n",
              "      <td>38</td>\n",
              "      <td>No</td>\n",
              "      <td>1274284</td>\n",
              "      <td>No</td>\n",
              "      <td>0</td>\n",
              "    </tr>\n",
              "    <tr>\n",
              "      <th>9</th>\n",
              "      <td>NVKTFBA2</td>\n",
              "      <td>Female</td>\n",
              "      <td>55</td>\n",
              "      <td>RG268</td>\n",
              "      <td>Self_Employed</td>\n",
              "      <td>X2</td>\n",
              "      <td>49</td>\n",
              "      <td>Yes</td>\n",
              "      <td>2014239</td>\n",
              "      <td>No</td>\n",
              "      <td>0</td>\n",
              "    </tr>\n",
              "  </tbody>\n",
              "</table>\n",
              "</div>"
            ],
            "text/plain": [
              "         ID  Gender  Age  ... Avg_Account_Balance Is_Active Is_Lead\n",
              "0  NNVBBKZB  Female   73  ...             1045696        No       0\n",
              "1  IDD62UNG  Female   30  ...              581988        No       0\n",
              "2  HD3DSEMC  Female   56  ...             1484315       Yes       0\n",
              "3  BF3NC7KV    Male   34  ...              470454        No       0\n",
              "4  TEASRWXV  Female   30  ...              886787        No       0\n",
              "5  ACUTYTWS    Male   56  ...              544163       Yes       0\n",
              "6  ETQCZFEJ    Male   62  ...             1056750       Yes       1\n",
              "7  JJNJUQMQ  Female   48  ...              444724       Yes       0\n",
              "8  ZMQFYKCB  Female   40  ...             1274284        No       0\n",
              "9  NVKTFBA2  Female   55  ...             2014239        No       0\n",
              "\n",
              "[10 rows x 11 columns]"
            ]
          },
          "metadata": {
            "tags": []
          },
          "execution_count": 5
        }
      ]
    },
    {
      "cell_type": "code",
      "metadata": {
        "colab": {
          "base_uri": "https://localhost:8080/"
        },
        "id": "A_iexBRH4FC1",
        "outputId": "ca11c07b-65c1-4ccf-f801-620d11ed3bd8"
      },
      "source": [
        "train.info() #Extract the basic information from the data like dtypes of features, number of non-null values"
      ],
      "execution_count": null,
      "outputs": [
        {
          "output_type": "stream",
          "text": [
            "<class 'pandas.core.frame.DataFrame'>\n",
            "RangeIndex: 245725 entries, 0 to 245724\n",
            "Data columns (total 11 columns):\n",
            " #   Column               Non-Null Count   Dtype \n",
            "---  ------               --------------   ----- \n",
            " 0   ID                   245725 non-null  object\n",
            " 1   Gender               245725 non-null  object\n",
            " 2   Age                  245725 non-null  int64 \n",
            " 3   Region_Code          245725 non-null  object\n",
            " 4   Occupation           245725 non-null  object\n",
            " 5   Channel_Code         245725 non-null  object\n",
            " 6   Vintage              245725 non-null  int64 \n",
            " 7   Credit_Product       216400 non-null  object\n",
            " 8   Avg_Account_Balance  245725 non-null  int64 \n",
            " 9   Is_Active            245725 non-null  object\n",
            " 10  Is_Lead              245725 non-null  int64 \n",
            "dtypes: int64(4), object(7)\n",
            "memory usage: 20.6+ MB\n"
          ],
          "name": "stdout"
        }
      ]
    },
    {
      "cell_type": "code",
      "metadata": {
        "colab": {
          "base_uri": "https://localhost:8080/"
        },
        "id": "w6iclQdF4aRd",
        "outputId": "9150b49c-eb61-4067-f99b-bfa9bb97b5f0"
      },
      "source": [
        "test.info()"
      ],
      "execution_count": null,
      "outputs": [
        {
          "output_type": "stream",
          "text": [
            "<class 'pandas.core.frame.DataFrame'>\n",
            "RangeIndex: 105312 entries, 0 to 105311\n",
            "Data columns (total 10 columns):\n",
            " #   Column               Non-Null Count   Dtype \n",
            "---  ------               --------------   ----- \n",
            " 0   ID                   105312 non-null  object\n",
            " 1   Gender               105312 non-null  object\n",
            " 2   Age                  105312 non-null  int64 \n",
            " 3   Region_Code          105312 non-null  object\n",
            " 4   Occupation           105312 non-null  object\n",
            " 5   Channel_Code         105312 non-null  object\n",
            " 6   Vintage              105312 non-null  int64 \n",
            " 7   Credit_Product       92790 non-null   object\n",
            " 8   Avg_Account_Balance  105312 non-null  int64 \n",
            " 9   Is_Active            105312 non-null  object\n",
            "dtypes: int64(3), object(7)\n",
            "memory usage: 8.0+ MB\n"
          ],
          "name": "stdout"
        }
      ]
    },
    {
      "cell_type": "markdown",
      "metadata": {
        "id": "lyrbyGWn6gTI"
      },
      "source": [
        "**Credit_Product feature have some null values.**"
      ]
    },
    {
      "cell_type": "code",
      "metadata": {
        "colab": {
          "base_uri": "https://localhost:8080/"
        },
        "id": "XfXxFeGm6cYF",
        "outputId": "2be21207-c5e9-4b66-f6cd-bbeabf89a1cc"
      },
      "source": [
        "train.isnull().sum() # Check the count for null values in feature"
      ],
      "execution_count": null,
      "outputs": [
        {
          "output_type": "execute_result",
          "data": {
            "text/plain": [
              "ID                         0\n",
              "Gender                     0\n",
              "Age                        0\n",
              "Region_Code                0\n",
              "Occupation                 0\n",
              "Channel_Code               0\n",
              "Vintage                    0\n",
              "Credit_Product         29325\n",
              "Avg_Account_Balance        0\n",
              "Is_Active                  0\n",
              "Is_Lead                    0\n",
              "dtype: int64"
            ]
          },
          "metadata": {
            "tags": []
          },
          "execution_count": 8
        }
      ]
    },
    {
      "cell_type": "code",
      "metadata": {
        "colab": {
          "base_uri": "https://localhost:8080/"
        },
        "id": "WOti-0lg6oj3",
        "outputId": "b62c8848-5d45-433d-87f1-4da3331a6257"
      },
      "source": [
        "test.isnull().sum()"
      ],
      "execution_count": null,
      "outputs": [
        {
          "output_type": "execute_result",
          "data": {
            "text/plain": [
              "ID                         0\n",
              "Gender                     0\n",
              "Age                        0\n",
              "Region_Code                0\n",
              "Occupation                 0\n",
              "Channel_Code               0\n",
              "Vintage                    0\n",
              "Credit_Product         12522\n",
              "Avg_Account_Balance        0\n",
              "Is_Active                  0\n",
              "dtype: int64"
            ]
          },
          "metadata": {
            "tags": []
          },
          "execution_count": 9
        }
      ]
    },
    {
      "cell_type": "code",
      "metadata": {
        "colab": {
          "base_uri": "https://localhost:8080/"
        },
        "id": "lq0GSioy6rRu",
        "outputId": "f4cdb2a8-f933-4833-d801-bb412b3e0e62"
      },
      "source": [
        "# Extract the null columns from training and testing set\n",
        "\n",
        "null_columns_train = [col for col in train.columns if train[col].isnull().sum() !=0]\n",
        "null_columns_test = [col for col in test.columns if test[col].isnull().sum() !=0]\n",
        "\n",
        "# Print the percentage of null values in each column\n",
        "def perc_null_vals(null_columns, data, dataset_type = None):\n",
        "  total_val_counts = data.shape[0] # Total values in the dataset\n",
        "  for col in null_columns:\n",
        "    null_val_counts = data[col].isnull().sum() # number of null values in the dataset\n",
        "    perc_null_vals = float(null_val_counts)*100/total_val_counts\n",
        "    print(\"The percentage of null values in {} in the {} set is {:.3f}%\".format(col, dataset_type, perc_null_vals))\n",
        "\n",
        "# Call the above function\n",
        "perc_null_vals(null_columns_train, train, \"train\")\n",
        "perc_null_vals(null_columns_test, test, \"test\")"
      ],
      "execution_count": null,
      "outputs": [
        {
          "output_type": "stream",
          "text": [
            "The percentage of null values in Credit_Product in the train set is 11.934%\n",
            "The percentage of null values in Credit_Product in the test set is 11.890%\n"
          ],
          "name": "stdout"
        }
      ]
    },
    {
      "cell_type": "markdown",
      "metadata": {
        "id": "GH3Zw8Tr8xEY"
      },
      "source": [
        "**Almost equal percentage of null values are present in both the dataset.**"
      ]
    },
    {
      "cell_type": "markdown",
      "metadata": {
        "id": "YVls7G0r-_xx"
      },
      "source": [
        "# EDA on trainset"
      ]
    },
    {
      "cell_type": "code",
      "metadata": {
        "colab": {
          "base_uri": "https://localhost:8080/"
        },
        "id": "gnM3CxqQ_DXx",
        "outputId": "072d3056-44ed-47c6-c90e-e5c609d9a8d7"
      },
      "source": [
        "train.head()"
      ],
      "execution_count": null,
      "outputs": [
        {
          "output_type": "execute_result",
          "data": {
            "text/html": [
              "<div>\n",
              "<style scoped>\n",
              "    .dataframe tbody tr th:only-of-type {\n",
              "        vertical-align: middle;\n",
              "    }\n",
              "\n",
              "    .dataframe tbody tr th {\n",
              "        vertical-align: top;\n",
              "    }\n",
              "\n",
              "    .dataframe thead th {\n",
              "        text-align: right;\n",
              "    }\n",
              "</style>\n",
              "<table border=\"1\" class=\"dataframe\">\n",
              "  <thead>\n",
              "    <tr style=\"text-align: right;\">\n",
              "      <th></th>\n",
              "      <th>ID</th>\n",
              "      <th>Gender</th>\n",
              "      <th>Age</th>\n",
              "      <th>Region_Code</th>\n",
              "      <th>Occupation</th>\n",
              "      <th>Channel_Code</th>\n",
              "      <th>Vintage</th>\n",
              "      <th>Credit_Product</th>\n",
              "      <th>Avg_Account_Balance</th>\n",
              "      <th>Is_Active</th>\n",
              "      <th>Is_Lead</th>\n",
              "    </tr>\n",
              "  </thead>\n",
              "  <tbody>\n",
              "    <tr>\n",
              "      <th>0</th>\n",
              "      <td>NNVBBKZB</td>\n",
              "      <td>Female</td>\n",
              "      <td>73</td>\n",
              "      <td>RG268</td>\n",
              "      <td>Other</td>\n",
              "      <td>X3</td>\n",
              "      <td>43</td>\n",
              "      <td>No</td>\n",
              "      <td>1045696</td>\n",
              "      <td>No</td>\n",
              "      <td>0</td>\n",
              "    </tr>\n",
              "    <tr>\n",
              "      <th>1</th>\n",
              "      <td>IDD62UNG</td>\n",
              "      <td>Female</td>\n",
              "      <td>30</td>\n",
              "      <td>RG277</td>\n",
              "      <td>Salaried</td>\n",
              "      <td>X1</td>\n",
              "      <td>32</td>\n",
              "      <td>No</td>\n",
              "      <td>581988</td>\n",
              "      <td>No</td>\n",
              "      <td>0</td>\n",
              "    </tr>\n",
              "    <tr>\n",
              "      <th>2</th>\n",
              "      <td>HD3DSEMC</td>\n",
              "      <td>Female</td>\n",
              "      <td>56</td>\n",
              "      <td>RG268</td>\n",
              "      <td>Self_Employed</td>\n",
              "      <td>X3</td>\n",
              "      <td>26</td>\n",
              "      <td>No</td>\n",
              "      <td>1484315</td>\n",
              "      <td>Yes</td>\n",
              "      <td>0</td>\n",
              "    </tr>\n",
              "    <tr>\n",
              "      <th>3</th>\n",
              "      <td>BF3NC7KV</td>\n",
              "      <td>Male</td>\n",
              "      <td>34</td>\n",
              "      <td>RG270</td>\n",
              "      <td>Salaried</td>\n",
              "      <td>X1</td>\n",
              "      <td>19</td>\n",
              "      <td>No</td>\n",
              "      <td>470454</td>\n",
              "      <td>No</td>\n",
              "      <td>0</td>\n",
              "    </tr>\n",
              "    <tr>\n",
              "      <th>4</th>\n",
              "      <td>TEASRWXV</td>\n",
              "      <td>Female</td>\n",
              "      <td>30</td>\n",
              "      <td>RG282</td>\n",
              "      <td>Salaried</td>\n",
              "      <td>X1</td>\n",
              "      <td>33</td>\n",
              "      <td>No</td>\n",
              "      <td>886787</td>\n",
              "      <td>No</td>\n",
              "      <td>0</td>\n",
              "    </tr>\n",
              "  </tbody>\n",
              "</table>\n",
              "</div>"
            ],
            "text/plain": [
              "         ID  Gender  Age  ... Avg_Account_Balance Is_Active Is_Lead\n",
              "0  NNVBBKZB  Female   73  ...             1045696        No       0\n",
              "1  IDD62UNG  Female   30  ...              581988        No       0\n",
              "2  HD3DSEMC  Female   56  ...             1484315       Yes       0\n",
              "3  BF3NC7KV    Male   34  ...              470454        No       0\n",
              "4  TEASRWXV  Female   30  ...              886787        No       0\n",
              "\n",
              "[5 rows x 11 columns]"
            ]
          },
          "metadata": {
            "tags": []
          },
          "execution_count": 11
        }
      ]
    },
    {
      "cell_type": "code",
      "metadata": {
        "colab": {
          "base_uri": "https://localhost:8080/"
        },
        "id": "Zk2JM-f4ALCM",
        "outputId": "10ffac3f-6dd4-43f2-bf33-84c2c9d1da58"
      },
      "source": [
        "train['Occupation'].value_counts()"
      ],
      "execution_count": null,
      "outputs": [
        {
          "output_type": "execute_result",
          "data": {
            "text/plain": [
              "Self_Employed    100886\n",
              "Salaried          71999\n",
              "Other             70173\n",
              "Entrepreneur       2667\n",
              "Name: Occupation, dtype: int64"
            ]
          },
          "metadata": {
            "tags": []
          },
          "execution_count": 12
        }
      ]
    },
    {
      "cell_type": "code",
      "metadata": {
        "colab": {
          "base_uri": "https://localhost:8080/"
        },
        "id": "GqWzr26n7FYT",
        "outputId": "d919381a-53f3-4e9d-a865-55761c27dd09"
      },
      "source": [
        "# Check for unique values in the categorical columns\n",
        "cat_cols = [cols for cols in train.select_dtypes('O').columns]\n",
        "\n",
        "def print_unique_vals(data, columns):\n",
        "  # iterate over each column and print the unique values in each categorical column as well as their counts\n",
        "  for col in columns:\n",
        "    print(\"Unqiue values in {} are\".format(col))\n",
        "    print(data[col].value_counts())\n",
        "    print()\n",
        "\n",
        "# Call the above method\n",
        "print_unique_vals(train, cat_cols)"
      ],
      "execution_count": null,
      "outputs": [
        {
          "output_type": "stream",
          "text": [
            "Unqiue values in ID are\n",
            "EQSBMXRQ    1\n",
            "CCDGJAJ7    1\n",
            "ZXPMKAQJ    1\n",
            "D4BVNDTN    1\n",
            "K7XUOXES    1\n",
            "           ..\n",
            "HGZULHJU    1\n",
            "F2MDTUAF    1\n",
            "ZSQJZ7SX    1\n",
            "4RNVPCS7    1\n",
            "KBXQVVDY    1\n",
            "Name: ID, Length: 245725, dtype: int64\n",
            "\n",
            "Unqiue values in Gender are\n",
            "Male      134197\n",
            "Female    111528\n",
            "Name: Gender, dtype: int64\n",
            "\n",
            "Unqiue values in Region_Code are\n",
            "RG268    35934\n",
            "RG283    29416\n",
            "RG254    26840\n",
            "RG284    19320\n",
            "RG277    12826\n",
            "RG280    12775\n",
            "RG269     7863\n",
            "RG270     7720\n",
            "RG261     7633\n",
            "RG257     6101\n",
            "RG251     5950\n",
            "RG282     5829\n",
            "RG274     5286\n",
            "RG272     5252\n",
            "RG281     5093\n",
            "RG273     4497\n",
            "RG252     4286\n",
            "RG279     3976\n",
            "RG263     3687\n",
            "RG275     3245\n",
            "RG260     3110\n",
            "RG256     2847\n",
            "RG264     2793\n",
            "RG276     2764\n",
            "RG259     2586\n",
            "RG250     2496\n",
            "RG255     2018\n",
            "RG258     1951\n",
            "RG253     1858\n",
            "RG278     1822\n",
            "RG262     1788\n",
            "RG266     1578\n",
            "RG265     1546\n",
            "RG271     1542\n",
            "RG267     1497\n",
            "Name: Region_Code, dtype: int64\n",
            "\n",
            "Unqiue values in Occupation are\n",
            "Self_Employed    100886\n",
            "Salaried          71999\n",
            "Other             70173\n",
            "Entrepreneur       2667\n",
            "Name: Occupation, dtype: int64\n",
            "\n",
            "Unqiue values in Channel_Code are\n",
            "X1    103718\n",
            "X3     68712\n",
            "X2     67726\n",
            "X4      5569\n",
            "Name: Channel_Code, dtype: int64\n",
            "\n",
            "Unqiue values in Credit_Product are\n",
            "No     144357\n",
            "Yes     72043\n",
            "Name: Credit_Product, dtype: int64\n",
            "\n",
            "Unqiue values in Is_Active are\n",
            "No     150290\n",
            "Yes     95435\n",
            "Name: Is_Active, dtype: int64\n",
            "\n"
          ],
          "name": "stdout"
        }
      ]
    },
    {
      "cell_type": "code",
      "metadata": {
        "colab": {
          "base_uri": "https://localhost:8080/"
        },
        "id": "ty2eCi_P_TrH",
        "outputId": "308cd69b-31f6-48d5-bb0a-d68a7977d834"
      },
      "source": [
        "# Check similarly for test set\n",
        "cat_cols_test = [col for col in test.select_dtypes('O').columns]\n",
        "print_unique_vals(test, cat_cols_test)"
      ],
      "execution_count": null,
      "outputs": [
        {
          "output_type": "stream",
          "text": [
            "Unqiue values in ID are\n",
            "K7TMVRQK    1\n",
            "MADXAC8Y    1\n",
            "EV22JE5E    1\n",
            "GU76PPSV    1\n",
            "7PDYREDN    1\n",
            "           ..\n",
            "GZ2RM2MA    1\n",
            "U9MXFO8N    1\n",
            "RMPBWEEJ    1\n",
            "HTGIYKWR    1\n",
            "VPUET9LA    1\n",
            "Name: ID, Length: 105312, dtype: int64\n",
            "\n",
            "Unqiue values in Gender are\n",
            "Male      57705\n",
            "Female    47607\n",
            "Name: Gender, dtype: int64\n",
            "\n",
            "Unqiue values in Region_Code are\n",
            "RG268    15125\n",
            "RG283    12881\n",
            "RG254    11737\n",
            "RG284     8173\n",
            "RG277     5596\n",
            "RG280     5529\n",
            "RG270     3440\n",
            "RG269     3288\n",
            "RG261     3286\n",
            "RG251     2678\n",
            "RG257     2588\n",
            "RG272     2338\n",
            "RG282     2337\n",
            "RG274     2208\n",
            "RG281     2144\n",
            "RG252     1811\n",
            "RG273     1803\n",
            "RG263     1615\n",
            "RG279     1600\n",
            "RG275     1383\n",
            "RG260     1300\n",
            "RG264     1241\n",
            "RG256     1194\n",
            "RG276     1185\n",
            "RG259     1102\n",
            "RG250     1048\n",
            "RG255      891\n",
            "RG278      824\n",
            "RG258      812\n",
            "RG253      810\n",
            "RG262      800\n",
            "RG265      668\n",
            "RG271      654\n",
            "RG266      631\n",
            "RG267      592\n",
            "Name: Region_Code, dtype: int64\n",
            "\n",
            "Unqiue values in Occupation are\n",
            "Self_Employed    43192\n",
            "Salaried         30913\n",
            "Other            30131\n",
            "Entrepreneur      1076\n",
            "Name: Occupation, dtype: int64\n",
            "\n",
            "Unqiue values in Channel_Code are\n",
            "X1    44484\n",
            "X3    29269\n",
            "X2    29176\n",
            "X4     2383\n",
            "Name: Channel_Code, dtype: int64\n",
            "\n",
            "Unqiue values in Credit_Product are\n",
            "No     61608\n",
            "Yes    31182\n",
            "Name: Credit_Product, dtype: int64\n",
            "\n",
            "Unqiue values in Is_Active are\n",
            "No     63797\n",
            "Yes    41515\n",
            "Name: Is_Active, dtype: int64\n",
            "\n"
          ],
          "name": "stdout"
        }
      ]
    },
    {
      "cell_type": "markdown",
      "metadata": {
        "id": "SORLwbW6BT-_"
      },
      "source": [
        "**Every Categorical column other than ID and Region_Code have same subcategories in both train and test set**"
      ]
    },
    {
      "cell_type": "code",
      "metadata": {
        "colab": {
          "base_uri": "https://localhost:8080/"
        },
        "id": "1hi6eP6u_Vwy",
        "outputId": "8a7ebeeb-2d76-4f4e-eaad-69626b28a3df"
      },
      "source": [
        "# Create a new column called is_lead_text for plotting a pairplot\n",
        "train['Is_Lead_text'] = train['Is_Lead'].apply(lambda x : \"Yes\" if x==1 else \"No\")\n",
        "\n",
        "# Create a copy of train set\n",
        "train_copy = train.copy()\n",
        "train_copy.drop('Is_Lead',axis = 1, inplace=True)\n",
        "\n",
        "# Plot the pairplot\n",
        "sns.pairplot(train_copy, hue = \"Is_Lead_text\")\n",
        "plt.show()"
      ],
      "execution_count": null,
      "outputs": [
        {
          "output_type": "display_data",
          "data": {
            "image/png": "[encoded data removed]",
            "text/plain": [
              "<Figure size 609.75x540 with 12 Axes>"
            ]
          },
          "metadata": {
            "tags": [],
            "needs_background": "light"
          }
        }
      ]
    },
    {
      "cell_type": "code",
      "metadata": {
        "colab": {
          "base_uri": "https://localhost:8080/"
        },
        "id": "Naz1irHaBxws",
        "outputId": "fd880be8-86c3-468d-b2b7-9712761bb762"
      },
      "source": [
        "# extract numerical columns and plot scatter plots between each\n",
        "num_cols = [col for col in train_copy.select_dtypes('int')]\n",
        "\n",
        "# Check the distribution of the numerical features\n",
        "train_copy.hist(figsize=(12,8))\n",
        "plt.show()\n",
        "\n",
        "# Check for class imbalance\n",
        "sns.countplot(x = train_copy['Is_Lead_text'])\n",
        "plt.grid()\n",
        "plt.show()\n",
        "\n",
        "# Check for class count w.r.t every other categorical_column\n",
        "sns.countplot(x = train_copy['Is_Lead_text'], hue=train_copy['Gender'])\n",
        "plt.grid()\n",
        "plt.show()\n",
        "\n",
        "sns.countplot(x = train_copy['Is_Lead_text'], hue=train_copy['Is_Active'])\n",
        "plt.grid()\n",
        "plt.show()\n",
        "\n",
        "sns.countplot(x = train_copy['Is_Lead_text'], hue=train_copy['Occupation'])\n",
        "plt.grid()\n",
        "plt.show()\n",
        "\n",
        "sns.countplot(x = train_copy['Is_Lead_text'], hue=train_copy['Channel_Code'])\n",
        "plt.grid()\n",
        "plt.show()\n",
        "\n",
        "sns.countplot(x = train_copy['Is_Lead_text'], hue=train_copy['Credit_Product'])\n",
        "plt.grid()\n",
        "plt.show()"
      ],
      "execution_count": null,
      "outputs": [
        {
          "output_type": "display_data",
          "data": {
            "image/png": "[encoded data removed]",
            "text/plain": [
              "<Figure size 864x576 with 4 Axes>"
            ]
          },
          "metadata": {
            "tags": [],
            "needs_background": "light"
          }
        },
        {
          "output_type": "display_data",
          "data": {
            "image/png": "[encoded data removed]",
            "text/plain": [
              "<Figure size 432x288 with 1 Axes>"
            ]
          },
          "metadata": {
            "tags": [],
            "needs_background": "light"
          }
        },
        {
          "output_type": "display_data",
          "data": {
            "image/png": "[encoded data removed]",
            "text/plain": [
              "<Figure size 432x288 with 1 Axes>"
            ]
          },
          "metadata": {
            "tags": [],
            "needs_background": "light"
          }
        },
        {
          "output_type": "display_data",
          "data": {
            "image/png": "[encoded data removed]",
            "text/plain": [
              "<Figure size 432x288 with 1 Axes>"
            ]
          },
          "metadata": {
            "tags": [],
            "needs_background": "light"
          }
        },
        {
          "output_type": "display_data",
          "data": {
            "image/png": "[encoded data removed]",
            "text/plain": [
              "<Figure size 432x288 with 1 Axes>"
            ]
          },
          "metadata": {
            "tags": [],
            "needs_background": "light"
          }
        },
        {
          "output_type": "display_data",
          "data": {
            "image/png": "[encoded data removed]",
            "text/plain": [
              "<Figure size 432x288 with 1 Axes>"
            ]
          },
          "metadata": {
            "tags": [],
            "needs_background": "light"
          }
        },
        {
          "output_type": "display_data",
          "data": {
            "image/png": "[encoded data removed]",
            "text/plain": [
              "<Figure size 432x288 with 1 Axes>"
            ]
          },
          "metadata": {
            "tags": [],
            "needs_background": "light"
          }
        }
      ]
    },
    {
      "cell_type": "code",
      "metadata": {
        "colab": {
          "base_uri": "https://localhost:8080/"
        },
        "id": "-RNhk_4GLeUJ",
        "outputId": "ea8ec8ef-6ff0-47a8-a1da-a148b0f9a3fa"
      },
      "source": [
        "train_copy.head()"
      ],
      "execution_count": null,
      "outputs": [
        {
          "output_type": "execute_result",
          "data": {
            "text/html": [
              "<div>\n",
              "<style scoped>\n",
              "    .dataframe tbody tr th:only-of-type {\n",
              "        vertical-align: middle;\n",
              "    }\n",
              "\n",
              "    .dataframe tbody tr th {\n",
              "        vertical-align: top;\n",
              "    }\n",
              "\n",
              "    .dataframe thead th {\n",
              "        text-align: right;\n",
              "    }\n",
              "</style>\n",
              "<table border=\"1\" class=\"dataframe\">\n",
              "  <thead>\n",
              "    <tr style=\"text-align: right;\">\n",
              "      <th></th>\n",
              "      <th>ID</th>\n",
              "      <th>Gender</th>\n",
              "      <th>Age</th>\n",
              "      <th>Region_Code</th>\n",
              "      <th>Occupation</th>\n",
              "      <th>Channel_Code</th>\n",
              "      <th>Vintage</th>\n",
              "      <th>Credit_Product</th>\n",
              "      <th>Avg_Account_Balance</th>\n",
              "      <th>Is_Active</th>\n",
              "      <th>Is_Lead_text</th>\n",
              "    </tr>\n",
              "  </thead>\n",
              "  <tbody>\n",
              "    <tr>\n",
              "      <th>0</th>\n",
              "      <td>NNVBBKZB</td>\n",
              "      <td>Female</td>\n",
              "      <td>73</td>\n",
              "      <td>RG268</td>\n",
              "      <td>Other</td>\n",
              "      <td>X3</td>\n",
              "      <td>43</td>\n",
              "      <td>No</td>\n",
              "      <td>1045696</td>\n",
              "      <td>No</td>\n",
              "      <td>No</td>\n",
              "    </tr>\n",
              "    <tr>\n",
              "      <th>1</th>\n",
              "      <td>IDD62UNG</td>\n",
              "      <td>Female</td>\n",
              "      <td>30</td>\n",
              "      <td>RG277</td>\n",
              "      <td>Salaried</td>\n",
              "      <td>X1</td>\n",
              "      <td>32</td>\n",
              "      <td>No</td>\n",
              "      <td>581988</td>\n",
              "      <td>No</td>\n",
              "      <td>No</td>\n",
              "    </tr>\n",
              "    <tr>\n",
              "      <th>2</th>\n",
              "      <td>HD3DSEMC</td>\n",
              "      <td>Female</td>\n",
              "      <td>56</td>\n",
              "      <td>RG268</td>\n",
              "      <td>Self_Employed</td>\n",
              "      <td>X3</td>\n",
              "      <td>26</td>\n",
              "      <td>No</td>\n",
              "      <td>1484315</td>\n",
              "      <td>Yes</td>\n",
              "      <td>No</td>\n",
              "    </tr>\n",
              "    <tr>\n",
              "      <th>3</th>\n",
              "      <td>BF3NC7KV</td>\n",
              "      <td>Male</td>\n",
              "      <td>34</td>\n",
              "      <td>RG270</td>\n",
              "      <td>Salaried</td>\n",
              "      <td>X1</td>\n",
              "      <td>19</td>\n",
              "      <td>No</td>\n",
              "      <td>470454</td>\n",
              "      <td>No</td>\n",
              "      <td>No</td>\n",
              "    </tr>\n",
              "    <tr>\n",
              "      <th>4</th>\n",
              "      <td>TEASRWXV</td>\n",
              "      <td>Female</td>\n",
              "      <td>30</td>\n",
              "      <td>RG282</td>\n",
              "      <td>Salaried</td>\n",
              "      <td>X1</td>\n",
              "      <td>33</td>\n",
              "      <td>No</td>\n",
              "      <td>886787</td>\n",
              "      <td>No</td>\n",
              "      <td>No</td>\n",
              "    </tr>\n",
              "  </tbody>\n",
              "</table>\n",
              "</div>"
            ],
            "text/plain": [
              "         ID  Gender  Age  ... Avg_Account_Balance Is_Active Is_Lead_text\n",
              "0  NNVBBKZB  Female   73  ...             1045696        No           No\n",
              "1  IDD62UNG  Female   30  ...              581988        No           No\n",
              "2  HD3DSEMC  Female   56  ...             1484315       Yes           No\n",
              "3  BF3NC7KV    Male   34  ...              470454        No           No\n",
              "4  TEASRWXV  Female   30  ...              886787        No           No\n",
              "\n",
              "[5 rows x 11 columns]"
            ]
          },
          "metadata": {
            "tags": []
          },
          "execution_count": 17
        }
      ]
    },
    {
      "cell_type": "code",
      "metadata": {
        "colab": {
          "base_uri": "https://localhost:8080/"
        },
        "id": "i0tqtvvsN5H2",
        "outputId": "723d587d-e031-4ea1-b7f0-ad0623e02e83"
      },
      "source": [
        "# plot boxplots w.r.t Is_Lead_text\n",
        "sns.boxplot(x=train_copy['Credit_Product'], y=train_copy['Avg_Account_Balance'])\n",
        "plt.show()\n",
        "\n",
        "sns.boxplot(x=train_copy['Credit_Product'], y=train_copy['Age'])\n",
        "plt.show()\n",
        "\n",
        "sns.boxplot(x=train_copy['Credit_Product'], y=train_copy['Vintage'])\n",
        "plt.show()"
      ],
      "execution_count": null,
      "outputs": [
        {
          "output_type": "display_data",
          "data": {
            "image/png": "[encoded data removed]",
            "text/plain": [
              "<Figure size 432x288 with 1 Axes>"
            ]
          },
          "metadata": {
            "tags": [],
            "needs_background": "light"
          }
        },
        {
          "output_type": "display_data",
          "data": {
            "image/png": "[encoded data removed]",
            "text/plain": [
              "<Figure size 432x288 with 1 Axes>"
            ]
          },
          "metadata": {
            "tags": [],
            "needs_background": "light"
          }
        },
        {
          "output_type": "display_data",
          "data": {
            "image/png": "[encoded data removed]",
            "text/plain": [
              "<Figure size 432x288 with 1 Axes>"
            ]
          },
          "metadata": {
            "tags": [],
            "needs_background": "light"
          }
        }
      ]
    },
    {
      "cell_type": "markdown",
      "metadata": {
        "id": "YEiQoSMqPNhu"
      },
      "source": [
        "\n",
        "\n",
        "1.   Those between age 55-60 or Vintage between 60-80 have a Credit_Product.\n",
        "2.   Those between age 30-40 do not have a Credit_Product.\n",
        "\n"
      ]
    },
    {
      "cell_type": "code",
      "metadata": {
        "colab": {
          "base_uri": "https://localhost:8080/"
        },
        "id": "dfQwPJhoONK2",
        "outputId": "676c2763-89fb-4f7f-8bda-775c1716defe"
      },
      "source": [
        "# Fill na in credit_product\n",
        "def fill_na(data, null_indices):\n",
        "  for i in null_indices:\n",
        "    if  (55 <= train['Age'].iloc[i] <=60)  and (60 <= train['Vintage'].iloc[i] <= 40):\n",
        "      train['Credit_Product'].iloc[i] = \"Yes\"\n",
        "    elif 30 <= train['Age'].iloc[i] <= 40:\n",
        "      train['Credit_Product'].iloc[i] = \"No\"\n",
        "\n",
        "\n",
        "# Find null indices\n",
        "null_indices = train[train['Credit_Product'].isnull() == True].index\n",
        "\n",
        "# Call the above method and fill the null values\n",
        "fill_na(train, null_indices=null_indices)"
      ],
      "execution_count": null,
      "outputs": [
        {
          "output_type": "stream",
          "text": [
            "/usr/local/lib/python3.7/dist-packages/pandas/core/indexing.py:670: SettingWithCopyWarning:\n",
            "\n",
            "\n",
            "A value is trying to be set on a copy of a slice from a DataFrame\n",
            "\n",
            "See the caveats in the documentation: https://pandas.pydata.org/pandas-docs/stable/user_guide/indexing.html#returning-a-view-versus-a-copy\n",
            "\n"
          ],
          "name": "stderr"
        }
      ]
    },
    {
      "cell_type": "code",
      "metadata": {
        "colab": {
          "base_uri": "https://localhost:8080/"
        },
        "id": "wndUn2kvT6IG",
        "outputId": "fa417228-d28a-4f34-d4a4-52724618b623"
      },
      "source": [
        "train.isnull().sum()"
      ],
      "execution_count": null,
      "outputs": [
        {
          "output_type": "execute_result",
          "data": {
            "text/plain": [
              "ID                         0\n",
              "Gender                     0\n",
              "Age                        0\n",
              "Region_Code                0\n",
              "Occupation                 0\n",
              "Channel_Code               0\n",
              "Vintage                    0\n",
              "Credit_Product         25523\n",
              "Avg_Account_Balance        0\n",
              "Is_Active                  0\n",
              "Is_Lead                    0\n",
              "Is_Lead_text               0\n",
              "dtype: int64"
            ]
          },
          "metadata": {
            "tags": []
          },
          "execution_count": 20
        }
      ]
    },
    {
      "cell_type": "code",
      "metadata": {
        "colab": {
          "base_uri": "https://localhost:8080/"
        },
        "id": "EZhDp32CWTq6",
        "outputId": "781746eb-7dd3-409d-b332-55564f274f39"
      },
      "source": [
        "train['Credit_Product'].value_counts()"
      ],
      "execution_count": null,
      "outputs": [
        {
          "output_type": "execute_result",
          "data": {
            "text/plain": [
              "No     148159\n",
              "Yes     72043\n",
              "Name: Credit_Product, dtype: int64"
            ]
          },
          "metadata": {
            "tags": []
          },
          "execution_count": 21
        }
      ]
    },
    {
      "cell_type": "code",
      "metadata": {
        "id": "t30J8SL4Wh4d"
      },
      "source": [
        "# For rest of the null values introduce a new category of \"Unknown\"\n",
        "train.fillna('Unkown', inplace=True)"
      ],
      "execution_count": null,
      "outputs": []
    },
    {
      "cell_type": "code",
      "metadata": {
        "colab": {
          "base_uri": "https://localhost:8080/"
        },
        "id": "M6w7yLlCWnB0",
        "outputId": "af8f13b8-eac2-4e15-f5da-fd68aa1f773c"
      },
      "source": [
        "# Similarly use fill_na(user defined function on test set)\n",
        "null_indices_test = test[test['Credit_Product'].isnull()==True].index\n",
        "fill_na(test, null_indices_test)"
      ],
      "execution_count": null,
      "outputs": [
        {
          "output_type": "stream",
          "text": [
            "/usr/local/lib/python3.7/dist-packages/pandas/core/indexing.py:670: SettingWithCopyWarning:\n",
            "\n",
            "\n",
            "A value is trying to be set on a copy of a slice from a DataFrame\n",
            "\n",
            "See the caveats in the documentation: https://pandas.pydata.org/pandas-docs/stable/user_guide/indexing.html#returning-a-view-versus-a-copy\n",
            "\n"
          ],
          "name": "stderr"
        }
      ]
    },
    {
      "cell_type": "code",
      "metadata": {
        "colab": {
          "base_uri": "https://localhost:8080/"
        },
        "id": "eJBPH-SSXGw9",
        "outputId": "8e46508c-f45c-4280-ee5e-47acc59c83b5"
      },
      "source": [
        "test.isnull().sum() # this logic did not work on test set, fill the null vlaues with unknown brand"
      ],
      "execution_count": null,
      "outputs": [
        {
          "output_type": "execute_result",
          "data": {
            "text/plain": [
              "ID                         0\n",
              "Gender                     0\n",
              "Age                        0\n",
              "Region_Code                0\n",
              "Occupation                 0\n",
              "Channel_Code               0\n",
              "Vintage                    0\n",
              "Credit_Product         12522\n",
              "Avg_Account_Balance        0\n",
              "Is_Active                  0\n",
              "dtype: int64"
            ]
          },
          "metadata": {
            "tags": []
          },
          "execution_count": 24
        }
      ]
    },
    {
      "cell_type": "code",
      "metadata": {
        "id": "PyNliQsjXIa8"
      },
      "source": [
        "test.fillna('Unknown', inplace=True)"
      ],
      "execution_count": null,
      "outputs": []
    },
    {
      "cell_type": "code",
      "metadata": {
        "colab": {
          "base_uri": "https://localhost:8080/"
        },
        "id": "M-ERHm3XXVMF",
        "outputId": "ce2aa7df-8bce-46a9-e005-1ee69f20f68f"
      },
      "source": [
        "# Check for null values\n",
        "train.isnull().sum()"
      ],
      "execution_count": null,
      "outputs": [
        {
          "output_type": "execute_result",
          "data": {
            "text/plain": [
              "ID                     0\n",
              "Gender                 0\n",
              "Age                    0\n",
              "Region_Code            0\n",
              "Occupation             0\n",
              "Channel_Code           0\n",
              "Vintage                0\n",
              "Credit_Product         0\n",
              "Avg_Account_Balance    0\n",
              "Is_Active              0\n",
              "Is_Lead                0\n",
              "Is_Lead_text           0\n",
              "dtype: int64"
            ]
          },
          "metadata": {
            "tags": []
          },
          "execution_count": 26
        }
      ]
    },
    {
      "cell_type": "code",
      "metadata": {
        "colab": {
          "base_uri": "https://localhost:8080/"
        },
        "id": "rM5Ire-CXY5_",
        "outputId": "e3de8aa3-6445-4dba-929b-8133550a1f03"
      },
      "source": [
        "test.isnull().sum()"
      ],
      "execution_count": null,
      "outputs": [
        {
          "output_type": "execute_result",
          "data": {
            "text/plain": [
              "ID                     0\n",
              "Gender                 0\n",
              "Age                    0\n",
              "Region_Code            0\n",
              "Occupation             0\n",
              "Channel_Code           0\n",
              "Vintage                0\n",
              "Credit_Product         0\n",
              "Avg_Account_Balance    0\n",
              "Is_Active              0\n",
              "dtype: int64"
            ]
          },
          "metadata": {
            "tags": []
          },
          "execution_count": 27
        }
      ]
    },
    {
      "cell_type": "markdown",
      "metadata": {
        "id": "7l5YelACXcwk"
      },
      "source": [
        "# Data preprocessing"
      ]
    },
    {
      "cell_type": "code",
      "metadata": {
        "colab": {
          "base_uri": "https://localhost:8080/"
        },
        "id": "bjWdpaZOXabj",
        "outputId": "f3418a49-a168-4413-8e5d-14837b307c90"
      },
      "source": [
        "train.head(10)"
      ],
      "execution_count": null,
      "outputs": [
        {
          "output_type": "execute_result",
          "data": {
            "text/html": [
              "<div>\n",
              "<style scoped>\n",
              "    .dataframe tbody tr th:only-of-type {\n",
              "        vertical-align: middle;\n",
              "    }\n",
              "\n",
              "    .dataframe tbody tr th {\n",
              "        vertical-align: top;\n",
              "    }\n",
              "\n",
              "    .dataframe thead th {\n",
              "        text-align: right;\n",
              "    }\n",
              "</style>\n",
              "<table border=\"1\" class=\"dataframe\">\n",
              "  <thead>\n",
              "    <tr style=\"text-align: right;\">\n",
              "      <th></th>\n",
              "      <th>ID</th>\n",
              "      <th>Gender</th>\n",
              "      <th>Age</th>\n",
              "      <th>Region_Code</th>\n",
              "      <th>Occupation</th>\n",
              "      <th>Channel_Code</th>\n",
              "      <th>Vintage</th>\n",
              "      <th>Credit_Product</th>\n",
              "      <th>Avg_Account_Balance</th>\n",
              "      <th>Is_Active</th>\n",
              "      <th>Is_Lead</th>\n",
              "      <th>Is_Lead_text</th>\n",
              "    </tr>\n",
              "  </thead>\n",
              "  <tbody>\n",
              "    <tr>\n",
              "      <th>0</th>\n",
              "      <td>NNVBBKZB</td>\n",
              "      <td>Female</td>\n",
              "      <td>73</td>\n",
              "      <td>RG268</td>\n",
              "      <td>Other</td>\n",
              "      <td>X3</td>\n",
              "      <td>43</td>\n",
              "      <td>No</td>\n",
              "      <td>1045696</td>\n",
              "      <td>No</td>\n",
              "      <td>0</td>\n",
              "      <td>No</td>\n",
              "    </tr>\n",
              "    <tr>\n",
              "      <th>1</th>\n",
              "      <td>IDD62UNG</td>\n",
              "      <td>Female</td>\n",
              "      <td>30</td>\n",
              "      <td>RG277</td>\n",
              "      <td>Salaried</td>\n",
              "      <td>X1</td>\n",
              "      <td>32</td>\n",
              "      <td>No</td>\n",
              "      <td>581988</td>\n",
              "      <td>No</td>\n",
              "      <td>0</td>\n",
              "      <td>No</td>\n",
              "    </tr>\n",
              "    <tr>\n",
              "      <th>2</th>\n",
              "      <td>HD3DSEMC</td>\n",
              "      <td>Female</td>\n",
              "      <td>56</td>\n",
              "      <td>RG268</td>\n",
              "      <td>Self_Employed</td>\n",
              "      <td>X3</td>\n",
              "      <td>26</td>\n",
              "      <td>No</td>\n",
              "      <td>1484315</td>\n",
              "      <td>Yes</td>\n",
              "      <td>0</td>\n",
              "      <td>No</td>\n",
              "    </tr>\n",
              "    <tr>\n",
              "      <th>3</th>\n",
              "      <td>BF3NC7KV</td>\n",
              "      <td>Male</td>\n",
              "      <td>34</td>\n",
              "      <td>RG270</td>\n",
              "      <td>Salaried</td>\n",
              "      <td>X1</td>\n",
              "      <td>19</td>\n",
              "      <td>No</td>\n",
              "      <td>470454</td>\n",
              "      <td>No</td>\n",
              "      <td>0</td>\n",
              "      <td>No</td>\n",
              "    </tr>\n",
              "    <tr>\n",
              "      <th>4</th>\n",
              "      <td>TEASRWXV</td>\n",
              "      <td>Female</td>\n",
              "      <td>30</td>\n",
              "      <td>RG282</td>\n",
              "      <td>Salaried</td>\n",
              "      <td>X1</td>\n",
              "      <td>33</td>\n",
              "      <td>No</td>\n",
              "      <td>886787</td>\n",
              "      <td>No</td>\n",
              "      <td>0</td>\n",
              "      <td>No</td>\n",
              "    </tr>\n",
              "    <tr>\n",
              "      <th>5</th>\n",
              "      <td>ACUTYTWS</td>\n",
              "      <td>Male</td>\n",
              "      <td>56</td>\n",
              "      <td>RG261</td>\n",
              "      <td>Self_Employed</td>\n",
              "      <td>X1</td>\n",
              "      <td>32</td>\n",
              "      <td>No</td>\n",
              "      <td>544163</td>\n",
              "      <td>Yes</td>\n",
              "      <td>0</td>\n",
              "      <td>No</td>\n",
              "    </tr>\n",
              "    <tr>\n",
              "      <th>6</th>\n",
              "      <td>ETQCZFEJ</td>\n",
              "      <td>Male</td>\n",
              "      <td>62</td>\n",
              "      <td>RG282</td>\n",
              "      <td>Other</td>\n",
              "      <td>X3</td>\n",
              "      <td>20</td>\n",
              "      <td>Unkown</td>\n",
              "      <td>1056750</td>\n",
              "      <td>Yes</td>\n",
              "      <td>1</td>\n",
              "      <td>Yes</td>\n",
              "    </tr>\n",
              "    <tr>\n",
              "      <th>7</th>\n",
              "      <td>JJNJUQMQ</td>\n",
              "      <td>Female</td>\n",
              "      <td>48</td>\n",
              "      <td>RG265</td>\n",
              "      <td>Self_Employed</td>\n",
              "      <td>X3</td>\n",
              "      <td>13</td>\n",
              "      <td>No</td>\n",
              "      <td>444724</td>\n",
              "      <td>Yes</td>\n",
              "      <td>0</td>\n",
              "      <td>No</td>\n",
              "    </tr>\n",
              "    <tr>\n",
              "      <th>8</th>\n",
              "      <td>ZMQFYKCB</td>\n",
              "      <td>Female</td>\n",
              "      <td>40</td>\n",
              "      <td>RG283</td>\n",
              "      <td>Self_Employed</td>\n",
              "      <td>X2</td>\n",
              "      <td>38</td>\n",
              "      <td>No</td>\n",
              "      <td>1274284</td>\n",
              "      <td>No</td>\n",
              "      <td>0</td>\n",
              "      <td>No</td>\n",
              "    </tr>\n",
              "    <tr>\n",
              "      <th>9</th>\n",
              "      <td>NVKTFBA2</td>\n",
              "      <td>Female</td>\n",
              "      <td>55</td>\n",
              "      <td>RG268</td>\n",
              "      <td>Self_Employed</td>\n",
              "      <td>X2</td>\n",
              "      <td>49</td>\n",
              "      <td>Yes</td>\n",
              "      <td>2014239</td>\n",
              "      <td>No</td>\n",
              "      <td>0</td>\n",
              "      <td>No</td>\n",
              "    </tr>\n",
              "  </tbody>\n",
              "</table>\n",
              "</div>"
            ],
            "text/plain": [
              "         ID  Gender  Age  ... Is_Active Is_Lead Is_Lead_text\n",
              "0  NNVBBKZB  Female   73  ...        No       0           No\n",
              "1  IDD62UNG  Female   30  ...        No       0           No\n",
              "2  HD3DSEMC  Female   56  ...       Yes       0           No\n",
              "3  BF3NC7KV    Male   34  ...        No       0           No\n",
              "4  TEASRWXV  Female   30  ...        No       0           No\n",
              "5  ACUTYTWS    Male   56  ...       Yes       0           No\n",
              "6  ETQCZFEJ    Male   62  ...       Yes       1          Yes\n",
              "7  JJNJUQMQ  Female   48  ...       Yes       0           No\n",
              "8  ZMQFYKCB  Female   40  ...        No       0           No\n",
              "9  NVKTFBA2  Female   55  ...        No       0           No\n",
              "\n",
              "[10 rows x 12 columns]"
            ]
          },
          "metadata": {
            "tags": []
          },
          "execution_count": 28
        }
      ]
    },
    {
      "cell_type": "code",
      "metadata": {
        "id": "1DsZxV5NXf7k"
      },
      "source": [
        "# Drop the is_lead_text column, ID and Region_Code\n",
        "train.drop(['ID', 'Region_Code', 'Is_Lead_text'], axis=1, inplace=True)"
      ],
      "execution_count": null,
      "outputs": []
    },
    {
      "cell_type": "code",
      "metadata": {
        "colab": {
          "base_uri": "https://localhost:8080/"
        },
        "id": "OOYnEPgrXxTb",
        "outputId": "c6d56aa0-4ff5-415f-88b4-43d2cb924168"
      },
      "source": [
        "# Encode the columns\n",
        "cat_cols_updated = [cols for cols in train.select_dtypes('O').columns]\n",
        "cat_cols_updated"
      ],
      "execution_count": null,
      "outputs": [
        {
          "output_type": "execute_result",
          "data": {
            "text/plain": [
              "['Gender', 'Occupation', 'Channel_Code', 'Credit_Product', 'Is_Active']"
            ]
          },
          "metadata": {
            "tags": []
          },
          "execution_count": 30
        }
      ]
    },
    {
      "cell_type": "code",
      "metadata": {
        "id": "g7z3EJ32YFkF"
      },
      "source": [
        "from sklearn.preprocessing import LabelEncoder\n",
        "\n",
        "def encoder(data, cat_cols):\n",
        "\n",
        "  for col in cat_cols:\n",
        "    le = LabelEncoder()\n",
        "    data[col] = le.fit_transform(data[col].values.reshape((-1,1)))\n",
        "  return data\n"
      ],
      "execution_count": null,
      "outputs": []
    },
    {
      "cell_type": "code",
      "metadata": {
        "id": "0rVjFoHMYqmg",
        "colab": {
          "base_uri": "https://localhost:8080/"
        },
        "outputId": "794f2e0f-579e-44b4-87dd-e929f9567c6b"
      },
      "source": [
        "encoded_data = encoder(train, cat_cols_updated) # use the encoder function"
      ],
      "execution_count": null,
      "outputs": [
        {
          "output_type": "stream",
          "text": [
            "/usr/local/lib/python3.7/dist-packages/sklearn/preprocessing/_label.py:251: DataConversionWarning:\n",
            "\n",
            "A column-vector y was passed when a 1d array was expected. Please change the shape of y to (n_samples, ), for example using ravel().\n",
            "\n"
          ],
          "name": "stderr"
        }
      ]
    },
    {
      "cell_type": "code",
      "metadata": {
        "colab": {
          "base_uri": "https://localhost:8080/"
        },
        "id": "W__XSuJ2ZGx6",
        "outputId": "4b8e6c66-7d5e-4ed6-ce17-fcfb1d1df2d5"
      },
      "source": [
        "test.head()"
      ],
      "execution_count": null,
      "outputs": [
        {
          "output_type": "execute_result",
          "data": {
            "text/html": [
              "<div>\n",
              "<style scoped>\n",
              "    .dataframe tbody tr th:only-of-type {\n",
              "        vertical-align: middle;\n",
              "    }\n",
              "\n",
              "    .dataframe tbody tr th {\n",
              "        vertical-align: top;\n",
              "    }\n",
              "\n",
              "    .dataframe thead th {\n",
              "        text-align: right;\n",
              "    }\n",
              "</style>\n",
              "<table border=\"1\" class=\"dataframe\">\n",
              "  <thead>\n",
              "    <tr style=\"text-align: right;\">\n",
              "      <th></th>\n",
              "      <th>ID</th>\n",
              "      <th>Gender</th>\n",
              "      <th>Age</th>\n",
              "      <th>Region_Code</th>\n",
              "      <th>Occupation</th>\n",
              "      <th>Channel_Code</th>\n",
              "      <th>Vintage</th>\n",
              "      <th>Credit_Product</th>\n",
              "      <th>Avg_Account_Balance</th>\n",
              "      <th>Is_Active</th>\n",
              "    </tr>\n",
              "  </thead>\n",
              "  <tbody>\n",
              "    <tr>\n",
              "      <th>0</th>\n",
              "      <td>VBENBARO</td>\n",
              "      <td>Male</td>\n",
              "      <td>29</td>\n",
              "      <td>RG254</td>\n",
              "      <td>Other</td>\n",
              "      <td>X1</td>\n",
              "      <td>25</td>\n",
              "      <td>Yes</td>\n",
              "      <td>742366</td>\n",
              "      <td>No</td>\n",
              "    </tr>\n",
              "    <tr>\n",
              "      <th>1</th>\n",
              "      <td>CCMEWNKY</td>\n",
              "      <td>Male</td>\n",
              "      <td>43</td>\n",
              "      <td>RG268</td>\n",
              "      <td>Other</td>\n",
              "      <td>X2</td>\n",
              "      <td>49</td>\n",
              "      <td>Unknown</td>\n",
              "      <td>925537</td>\n",
              "      <td>No</td>\n",
              "    </tr>\n",
              "    <tr>\n",
              "      <th>2</th>\n",
              "      <td>VK3KGA9M</td>\n",
              "      <td>Male</td>\n",
              "      <td>31</td>\n",
              "      <td>RG270</td>\n",
              "      <td>Salaried</td>\n",
              "      <td>X1</td>\n",
              "      <td>14</td>\n",
              "      <td>No</td>\n",
              "      <td>215949</td>\n",
              "      <td>No</td>\n",
              "    </tr>\n",
              "    <tr>\n",
              "      <th>3</th>\n",
              "      <td>TT8RPZVC</td>\n",
              "      <td>Male</td>\n",
              "      <td>29</td>\n",
              "      <td>RG272</td>\n",
              "      <td>Other</td>\n",
              "      <td>X1</td>\n",
              "      <td>33</td>\n",
              "      <td>No</td>\n",
              "      <td>868070</td>\n",
              "      <td>No</td>\n",
              "    </tr>\n",
              "    <tr>\n",
              "      <th>4</th>\n",
              "      <td>SHQZEYTZ</td>\n",
              "      <td>Female</td>\n",
              "      <td>29</td>\n",
              "      <td>RG270</td>\n",
              "      <td>Other</td>\n",
              "      <td>X1</td>\n",
              "      <td>19</td>\n",
              "      <td>No</td>\n",
              "      <td>657087</td>\n",
              "      <td>No</td>\n",
              "    </tr>\n",
              "  </tbody>\n",
              "</table>\n",
              "</div>"
            ],
            "text/plain": [
              "         ID  Gender  Age  ... Credit_Product Avg_Account_Balance Is_Active\n",
              "0  VBENBARO    Male   29  ...            Yes              742366        No\n",
              "1  CCMEWNKY    Male   43  ...        Unknown              925537        No\n",
              "2  VK3KGA9M    Male   31  ...             No              215949        No\n",
              "3  TT8RPZVC    Male   29  ...             No              868070        No\n",
              "4  SHQZEYTZ  Female   29  ...             No              657087        No\n",
              "\n",
              "[5 rows x 10 columns]"
            ]
          },
          "metadata": {
            "tags": []
          },
          "execution_count": 33
        }
      ]
    },
    {
      "cell_type": "code",
      "metadata": {
        "id": "I4JjF5WNbI7k"
      },
      "source": [
        "# Store the Sample ID of the test set\n",
        "test_ID = test['ID']"
      ],
      "execution_count": null,
      "outputs": []
    },
    {
      "cell_type": "code",
      "metadata": {
        "id": "05ipAqmge0pM"
      },
      "source": [
        "test.drop(['ID', 'Region_Code'],axis=1, inplace=True)\n",
        "cat_cols_test_updated = [cols for cols in test.select_dtypes('O').columns]"
      ],
      "execution_count": null,
      "outputs": []
    },
    {
      "cell_type": "code",
      "metadata": {
        "colab": {
          "base_uri": "https://localhost:8080/"
        },
        "id": "G0ksqlHqfn5V",
        "outputId": "46ddbb7f-a8c7-4898-a4f8-2d565bb1875f"
      },
      "source": [
        "cat_cols_test_updated"
      ],
      "execution_count": null,
      "outputs": [
        {
          "output_type": "execute_result",
          "data": {
            "text/plain": [
              "['Gender', 'Occupation', 'Channel_Code', 'Credit_Product', 'Is_Active']"
            ]
          },
          "metadata": {
            "tags": []
          },
          "execution_count": 36
        }
      ]
    },
    {
      "cell_type": "code",
      "metadata": {
        "id": "Xw-CD2isZGHc",
        "colab": {
          "base_uri": "https://localhost:8080/"
        },
        "outputId": "309a47e5-0af1-47e4-874d-ff3f38371bbd"
      },
      "source": [
        "# Call the encoder funciton\n",
        "encoded_data_test = encoder(test, cat_cols_test_updated)"
      ],
      "execution_count": null,
      "outputs": [
        {
          "output_type": "stream",
          "text": [
            "/usr/local/lib/python3.7/dist-packages/sklearn/preprocessing/_label.py:251: DataConversionWarning:\n",
            "\n",
            "A column-vector y was passed when a 1d array was expected. Please change the shape of y to (n_samples, ), for example using ravel().\n",
            "\n"
          ],
          "name": "stderr"
        }
      ]
    },
    {
      "cell_type": "code",
      "metadata": {
        "colab": {
          "base_uri": "https://localhost:8080/"
        },
        "id": "UoZtgYetYugs",
        "outputId": "cdf70e9e-fc4c-4ba5-ef49-d6cce23fbcd7"
      },
      "source": [
        "encoded_data_test.head()"
      ],
      "execution_count": null,
      "outputs": [
        {
          "output_type": "execute_result",
          "data": {
            "text/html": [
              "<div>\n",
              "<style scoped>\n",
              "    .dataframe tbody tr th:only-of-type {\n",
              "        vertical-align: middle;\n",
              "    }\n",
              "\n",
              "    .dataframe tbody tr th {\n",
              "        vertical-align: top;\n",
              "    }\n",
              "\n",
              "    .dataframe thead th {\n",
              "        text-align: right;\n",
              "    }\n",
              "</style>\n",
              "<table border=\"1\" class=\"dataframe\">\n",
              "  <thead>\n",
              "    <tr style=\"text-align: right;\">\n",
              "      <th></th>\n",
              "      <th>Gender</th>\n",
              "      <th>Age</th>\n",
              "      <th>Occupation</th>\n",
              "      <th>Channel_Code</th>\n",
              "      <th>Vintage</th>\n",
              "      <th>Credit_Product</th>\n",
              "      <th>Avg_Account_Balance</th>\n",
              "      <th>Is_Active</th>\n",
              "    </tr>\n",
              "  </thead>\n",
              "  <tbody>\n",
              "    <tr>\n",
              "      <th>0</th>\n",
              "      <td>1</td>\n",
              "      <td>29</td>\n",
              "      <td>1</td>\n",
              "      <td>0</td>\n",
              "      <td>25</td>\n",
              "      <td>2</td>\n",
              "      <td>742366</td>\n",
              "      <td>0</td>\n",
              "    </tr>\n",
              "    <tr>\n",
              "      <th>1</th>\n",
              "      <td>1</td>\n",
              "      <td>43</td>\n",
              "      <td>1</td>\n",
              "      <td>1</td>\n",
              "      <td>49</td>\n",
              "      <td>1</td>\n",
              "      <td>925537</td>\n",
              "      <td>0</td>\n",
              "    </tr>\n",
              "    <tr>\n",
              "      <th>2</th>\n",
              "      <td>1</td>\n",
              "      <td>31</td>\n",
              "      <td>2</td>\n",
              "      <td>0</td>\n",
              "      <td>14</td>\n",
              "      <td>0</td>\n",
              "      <td>215949</td>\n",
              "      <td>0</td>\n",
              "    </tr>\n",
              "    <tr>\n",
              "      <th>3</th>\n",
              "      <td>1</td>\n",
              "      <td>29</td>\n",
              "      <td>1</td>\n",
              "      <td>0</td>\n",
              "      <td>33</td>\n",
              "      <td>0</td>\n",
              "      <td>868070</td>\n",
              "      <td>0</td>\n",
              "    </tr>\n",
              "    <tr>\n",
              "      <th>4</th>\n",
              "      <td>0</td>\n",
              "      <td>29</td>\n",
              "      <td>1</td>\n",
              "      <td>0</td>\n",
              "      <td>19</td>\n",
              "      <td>0</td>\n",
              "      <td>657087</td>\n",
              "      <td>0</td>\n",
              "    </tr>\n",
              "  </tbody>\n",
              "</table>\n",
              "</div>"
            ],
            "text/plain": [
              "   Gender  Age  Occupation  ...  Credit_Product  Avg_Account_Balance  Is_Active\n",
              "0       1   29           1  ...               2               742366          0\n",
              "1       1   43           1  ...               1               925537          0\n",
              "2       1   31           2  ...               0               215949          0\n",
              "3       1   29           1  ...               0               868070          0\n",
              "4       0   29           1  ...               0               657087          0\n",
              "\n",
              "[5 rows x 8 columns]"
            ]
          },
          "metadata": {
            "tags": []
          },
          "execution_count": 38
        }
      ]
    },
    {
      "cell_type": "code",
      "metadata": {
        "colab": {
          "base_uri": "https://localhost:8080/"
        },
        "id": "c8kb4Z2Koobj",
        "outputId": "d94e9ede-1a88-44b6-e044-7900dfb11c3e"
      },
      "source": [
        "plt.figure(figsize=(12,8))\n",
        "sns.heatmap(encoded_data.corr(), annot=True)\n",
        "plt.show()"
      ],
      "execution_count": null,
      "outputs": [
        {
          "output_type": "display_data",
          "data": {
            "image/png": "[encoded data removed]",
            "text/plain": [
              "<Figure size 864x576 with 2 Axes>"
            ]
          },
          "metadata": {
            "tags": [],
            "needs_background": "light"
          }
        }
      ]
    },
    {
      "cell_type": "code",
      "metadata": {
        "id": "bbSEcYZqZEzr"
      },
      "source": [
        "# Scale the training and testing data\n",
        "from sklearn.preprocessing import MinMaxScaler\n",
        "\n",
        "def scaled_data(data):\n",
        "  for col in data.columns:\n",
        "    # Min Max Scaler object\n",
        "    mms = MinMaxScaler()\n",
        "    data[col] = mms.fit_transform(data[col].values.reshape((-1,1)))\n",
        "  return data"
      ],
      "execution_count": null,
      "outputs": []
    },
    {
      "cell_type": "code",
      "metadata": {
        "id": "qNiJrlTBgO3X"
      },
      "source": [
        "final_training_data = scaled_data(encoded_data.drop('Is_Lead', axis=1))\n",
        "final_testing_data = scaled_data(encoded_data_test)"
      ],
      "execution_count": null,
      "outputs": []
    },
    {
      "cell_type": "code",
      "metadata": {
        "colab": {
          "base_uri": "https://localhost:8080/"
        },
        "id": "tWfZsRp8yOeZ",
        "outputId": "fa7a6245-9fc5-4376-c660-0e73e71cdaf1"
      },
      "source": [
        "final_training_data.head()"
      ],
      "execution_count": null,
      "outputs": [
        {
          "output_type": "execute_result",
          "data": {
            "text/html": [
              "<div>\n",
              "<style scoped>\n",
              "    .dataframe tbody tr th:only-of-type {\n",
              "        vertical-align: middle;\n",
              "    }\n",
              "\n",
              "    .dataframe tbody tr th {\n",
              "        vertical-align: top;\n",
              "    }\n",
              "\n",
              "    .dataframe thead th {\n",
              "        text-align: right;\n",
              "    }\n",
              "</style>\n",
              "<table border=\"1\" class=\"dataframe\">\n",
              "  <thead>\n",
              "    <tr style=\"text-align: right;\">\n",
              "      <th></th>\n",
              "      <th>Gender</th>\n",
              "      <th>Age</th>\n",
              "      <th>Occupation</th>\n",
              "      <th>Channel_Code</th>\n",
              "      <th>Vintage</th>\n",
              "      <th>Credit_Product</th>\n",
              "      <th>Avg_Account_Balance</th>\n",
              "      <th>Is_Active</th>\n",
              "    </tr>\n",
              "  </thead>\n",
              "  <tbody>\n",
              "    <tr>\n",
              "      <th>0</th>\n",
              "      <td>0.0</td>\n",
              "      <td>0.806452</td>\n",
              "      <td>0.333333</td>\n",
              "      <td>0.666667</td>\n",
              "      <td>0.281250</td>\n",
              "      <td>0.0</td>\n",
              "      <td>0.099205</td>\n",
              "      <td>0.0</td>\n",
              "    </tr>\n",
              "    <tr>\n",
              "      <th>1</th>\n",
              "      <td>0.0</td>\n",
              "      <td>0.112903</td>\n",
              "      <td>0.666667</td>\n",
              "      <td>0.000000</td>\n",
              "      <td>0.195312</td>\n",
              "      <td>0.0</td>\n",
              "      <td>0.054321</td>\n",
              "      <td>0.0</td>\n",
              "    </tr>\n",
              "    <tr>\n",
              "      <th>2</th>\n",
              "      <td>0.0</td>\n",
              "      <td>0.532258</td>\n",
              "      <td>1.000000</td>\n",
              "      <td>0.666667</td>\n",
              "      <td>0.148438</td>\n",
              "      <td>0.0</td>\n",
              "      <td>0.141660</td>\n",
              "      <td>1.0</td>\n",
              "    </tr>\n",
              "    <tr>\n",
              "      <th>3</th>\n",
              "      <td>1.0</td>\n",
              "      <td>0.177419</td>\n",
              "      <td>0.666667</td>\n",
              "      <td>0.000000</td>\n",
              "      <td>0.093750</td>\n",
              "      <td>0.0</td>\n",
              "      <td>0.043525</td>\n",
              "      <td>0.0</td>\n",
              "    </tr>\n",
              "    <tr>\n",
              "      <th>4</th>\n",
              "      <td>0.0</td>\n",
              "      <td>0.112903</td>\n",
              "      <td>0.666667</td>\n",
              "      <td>0.000000</td>\n",
              "      <td>0.203125</td>\n",
              "      <td>0.0</td>\n",
              "      <td>0.083823</td>\n",
              "      <td>0.0</td>\n",
              "    </tr>\n",
              "  </tbody>\n",
              "</table>\n",
              "</div>"
            ],
            "text/plain": [
              "   Gender       Age  Occupation  ...  Credit_Product  Avg_Account_Balance  Is_Active\n",
              "0     0.0  0.806452    0.333333  ...             0.0             0.099205        0.0\n",
              "1     0.0  0.112903    0.666667  ...             0.0             0.054321        0.0\n",
              "2     0.0  0.532258    1.000000  ...             0.0             0.141660        1.0\n",
              "3     1.0  0.177419    0.666667  ...             0.0             0.043525        0.0\n",
              "4     0.0  0.112903    0.666667  ...             0.0             0.083823        0.0\n",
              "\n",
              "[5 rows x 8 columns]"
            ]
          },
          "metadata": {
            "tags": []
          },
          "execution_count": 42
        }
      ]
    },
    {
      "cell_type": "code",
      "metadata": {
        "colab": {
          "base_uri": "https://localhost:8080/"
        },
        "id": "GeMmFdnGybkO",
        "outputId": "e490a567-8999-4f88-b54e-cbcfcf7c3ef1"
      },
      "source": [
        "len(final_training_data.columns)"
      ],
      "execution_count": null,
      "outputs": [
        {
          "output_type": "execute_result",
          "data": {
            "text/plain": [
              "8"
            ]
          },
          "metadata": {
            "tags": []
          },
          "execution_count": 43
        }
      ]
    },
    {
      "cell_type": "code",
      "metadata": {
        "colab": {
          "base_uri": "https://localhost:8080/"
        },
        "id": "s0arvCEcySW1",
        "outputId": "e991cdab-f7d4-4f8a-d77a-fcd04fc34d9c"
      },
      "source": [
        "len(final_testing_data.columns)"
      ],
      "execution_count": null,
      "outputs": [
        {
          "output_type": "execute_result",
          "data": {
            "text/plain": [
              "8"
            ]
          },
          "metadata": {
            "tags": []
          },
          "execution_count": 44
        }
      ]
    },
    {
      "cell_type": "markdown",
      "metadata": {
        "id": "Bfa7caZUgoCM"
      },
      "source": [
        "# Machine Learninig Modelling"
      ]
    },
    {
      "cell_type": "code",
      "metadata": {
        "colab": {
          "base_uri": "https://localhost:8080/",
          "height": 204
        },
        "id": "JJLnV_UWgTMw",
        "outputId": "a614a986-69d3-485d-b7bd-983bb6273605"
      },
      "source": [
        "final_training_data.head()"
      ],
      "execution_count": null,
      "outputs": [
        {
          "output_type": "execute_result",
          "data": {
            "text/html": [
              "<div>\n",
              "<style scoped>\n",
              "    .dataframe tbody tr th:only-of-type {\n",
              "        vertical-align: middle;\n",
              "    }\n",
              "\n",
              "    .dataframe tbody tr th {\n",
              "        vertical-align: top;\n",
              "    }\n",
              "\n",
              "    .dataframe thead th {\n",
              "        text-align: right;\n",
              "    }\n",
              "</style>\n",
              "<table border=\"1\" class=\"dataframe\">\n",
              "  <thead>\n",
              "    <tr style=\"text-align: right;\">\n",
              "      <th></th>\n",
              "      <th>Gender</th>\n",
              "      <th>Age</th>\n",
              "      <th>Occupation</th>\n",
              "      <th>Channel_Code</th>\n",
              "      <th>Vintage</th>\n",
              "      <th>Credit_Product</th>\n",
              "      <th>Avg_Account_Balance</th>\n",
              "      <th>Is_Active</th>\n",
              "    </tr>\n",
              "  </thead>\n",
              "  <tbody>\n",
              "    <tr>\n",
              "      <th>0</th>\n",
              "      <td>0.0</td>\n",
              "      <td>0.806452</td>\n",
              "      <td>0.333333</td>\n",
              "      <td>0.666667</td>\n",
              "      <td>0.281250</td>\n",
              "      <td>0.0</td>\n",
              "      <td>0.099205</td>\n",
              "      <td>0.0</td>\n",
              "    </tr>\n",
              "    <tr>\n",
              "      <th>1</th>\n",
              "      <td>0.0</td>\n",
              "      <td>0.112903</td>\n",
              "      <td>0.666667</td>\n",
              "      <td>0.000000</td>\n",
              "      <td>0.195312</td>\n",
              "      <td>0.0</td>\n",
              "      <td>0.054321</td>\n",
              "      <td>0.0</td>\n",
              "    </tr>\n",
              "    <tr>\n",
              "      <th>2</th>\n",
              "      <td>0.0</td>\n",
              "      <td>0.532258</td>\n",
              "      <td>1.000000</td>\n",
              "      <td>0.666667</td>\n",
              "      <td>0.148438</td>\n",
              "      <td>0.0</td>\n",
              "      <td>0.141660</td>\n",
              "      <td>1.0</td>\n",
              "    </tr>\n",
              "    <tr>\n",
              "      <th>3</th>\n",
              "      <td>1.0</td>\n",
              "      <td>0.177419</td>\n",
              "      <td>0.666667</td>\n",
              "      <td>0.000000</td>\n",
              "      <td>0.093750</td>\n",
              "      <td>0.0</td>\n",
              "      <td>0.043525</td>\n",
              "      <td>0.0</td>\n",
              "    </tr>\n",
              "    <tr>\n",
              "      <th>4</th>\n",
              "      <td>0.0</td>\n",
              "      <td>0.112903</td>\n",
              "      <td>0.666667</td>\n",
              "      <td>0.000000</td>\n",
              "      <td>0.203125</td>\n",
              "      <td>0.0</td>\n",
              "      <td>0.083823</td>\n",
              "      <td>0.0</td>\n",
              "    </tr>\n",
              "  </tbody>\n",
              "</table>\n",
              "</div>"
            ],
            "text/plain": [
              "   Gender       Age  Occupation  ...  Credit_Product  Avg_Account_Balance  Is_Active\n",
              "0     0.0  0.806452    0.333333  ...             0.0             0.099205        0.0\n",
              "1     0.0  0.112903    0.666667  ...             0.0             0.054321        0.0\n",
              "2     0.0  0.532258    1.000000  ...             0.0             0.141660        1.0\n",
              "3     1.0  0.177419    0.666667  ...             0.0             0.043525        0.0\n",
              "4     0.0  0.112903    0.666667  ...             0.0             0.083823        0.0\n",
              "\n",
              "[5 rows x 8 columns]"
            ]
          },
          "metadata": {
            "tags": []
          },
          "execution_count": 45
        }
      ]
    },
    {
      "cell_type": "code",
      "metadata": {
        "id": "3O1whupbgr76"
      },
      "source": [
        "target_variable = encoded_data['Is_Lead'] # Store the target variable"
      ],
      "execution_count": null,
      "outputs": []
    },
    {
      "cell_type": "code",
      "metadata": {
        "id": "2cShMHaigx_S"
      },
      "source": [
        "# Model selection \n",
        "from sklearn.model_selection import train_test_split\n",
        "from sklearn.model_selection import RandomizedSearchCV\n",
        "from sklearn.metrics import accuracy_score, roc_auc_score, precision_score, recall_score\n",
        "\n",
        "# Split the training data\n",
        "X_train, X_test, y_train, y_test = train_test_split(final_training_data, target_variable, test_size=0.2, random_state=42)"
      ],
      "execution_count": null,
      "outputs": []
    },
    {
      "cell_type": "code",
      "metadata": {
        "id": "ziIV4nq5pOLe"
      },
      "source": [
        "# Define a function to compute all the metrics\n",
        "def compute_metrics(y_true, y_pred, y_score, model):\n",
        "\n",
        "  # 1. Accuracy Score\n",
        "  acc_score = accuracy_score(y_true=y_true, y_pred=y_pred)\n",
        "\n",
        "  # 2. ROC_AUC_Score\n",
        "  roc_score = roc_auc_score(y_true=y_true, y_score=y_score)\n",
        "\n",
        "  # 3. Precision Score\n",
        "  prec = precision_score(y_true=y_true, y_pred=y_pred)\n",
        "\n",
        "  # Recall Score\n",
        "  rec = recall_score(y_true=y_true, y_pred=y_pred)\n",
        "\n",
        "  # Create a df of all the metrics\n",
        "  df_metrics = pd.DataFrame(np.array([acc_score, roc_score, prec, rec]).reshape((1,4)), columns=[\"Accuracy\", \"ROC_AUC_Score\", \"Precision\", \"Recall\"], index=[model])\n",
        "  return df_metrics"
      ],
      "execution_count": null,
      "outputs": []
    },
    {
      "cell_type": "markdown",
      "metadata": {
        "id": "in7hH-FgirsJ"
      },
      "source": [
        "## Logistic Regression"
      ]
    },
    {
      "cell_type": "code",
      "metadata": {
        "colab": {
          "base_uri": "https://localhost:8080/"
        },
        "id": "6VLAzCKVhVp8",
        "outputId": "3ce44edf-717e-4030-d4bd-02a312cd5279"
      },
      "source": [
        "from sklearn.linear_model import LogisticRegressionCV # Logistic Regression Model\n",
        "\n",
        "# Model object\n",
        "lg_clf = LogisticRegressionCV(cv=3, verbose=1, random_state=42, n_jobs=-1)\n",
        "\n",
        "# fit the model\n",
        "lg_clf.fit(X_train, y_train)"
      ],
      "execution_count": null,
      "outputs": [
        {
          "output_type": "stream",
          "text": [
            "[Parallel(n_jobs=-1)]: Using backend LokyBackend with 2 concurrent workers.\n",
            "[Parallel(n_jobs=-1)]: Done   3 out of   3 | elapsed:    4.9s finished\n"
          ],
          "name": "stderr"
        },
        {
          "output_type": "execute_result",
          "data": {
            "text/plain": [
              "LogisticRegressionCV(Cs=10, class_weight=None, cv=3, dual=False,\n",
              "                     fit_intercept=True, intercept_scaling=1.0, l1_ratios=None,\n",
              "                     max_iter=100, multi_class='auto', n_jobs=-1, penalty='l2',\n",
              "                     random_state=42, refit=True, scoring=None, solver='lbfgs',\n",
              "                     tol=0.0001, verbose=1)"
            ]
          },
          "metadata": {
            "tags": []
          },
          "execution_count": 49
        }
      ]
    },
    {
      "cell_type": "code",
      "metadata": {
        "id": "J8m_u551hYZa"
      },
      "source": [
        "# Make predicitons on the test set and compute the metrics\n",
        "predictions_1 = lg_clf.predict(X_test)\n",
        "prediction_prob1 = lg_clf.predict_proba(X_test)\n",
        "prediction_prob1 = prediction_prob1[ : ,1]"
      ],
      "execution_count": null,
      "outputs": []
    },
    {
      "cell_type": "code",
      "metadata": {
        "id": "MOrtUNgBl4T-"
      },
      "source": [
        "log_reg_results = compute_metrics(y_true = y_test, y_pred = predictions_1, y_score = prediction_prob1, model = \"Logistic Regression\")"
      ],
      "execution_count": null,
      "outputs": []
    },
    {
      "cell_type": "code",
      "metadata": {
        "colab": {
          "base_uri": "https://localhost:8080/"
        },
        "id": "K73n7cZ0qYIP",
        "outputId": "9468110f-61c1-430f-9595-7cf6dcf73d27"
      },
      "source": [
        "log_reg_results"
      ],
      "execution_count": null,
      "outputs": [
        {
          "output_type": "execute_result",
          "data": {
            "text/html": [
              "<div>\n",
              "<style scoped>\n",
              "    .dataframe tbody tr th:only-of-type {\n",
              "        vertical-align: middle;\n",
              "    }\n",
              "\n",
              "    .dataframe tbody tr th {\n",
              "        vertical-align: top;\n",
              "    }\n",
              "\n",
              "    .dataframe thead th {\n",
              "        text-align: right;\n",
              "    }\n",
              "</style>\n",
              "<table border=\"1\" class=\"dataframe\">\n",
              "  <thead>\n",
              "    <tr style=\"text-align: right;\">\n",
              "      <th></th>\n",
              "      <th>Accuracy</th>\n",
              "      <th>ROC_AUC_Score</th>\n",
              "      <th>Precision</th>\n",
              "      <th>Recall</th>\n",
              "    </tr>\n",
              "  </thead>\n",
              "  <tbody>\n",
              "    <tr>\n",
              "      <th>Logistic Regression</th>\n",
              "      <td>0.764004</td>\n",
              "      <td>0.756636</td>\n",
              "      <td>0.503011</td>\n",
              "      <td>0.193978</td>\n",
              "    </tr>\n",
              "  </tbody>\n",
              "</table>\n",
              "</div>"
            ],
            "text/plain": [
              "                     Accuracy  ROC_AUC_Score  Precision    Recall\n",
              "Logistic Regression  0.764004       0.756636   0.503011  0.193978"
            ]
          },
          "metadata": {
            "tags": []
          },
          "execution_count": 52
        }
      ]
    },
    {
      "cell_type": "markdown",
      "metadata": {
        "id": "6BbxEh6ioXiS"
      },
      "source": [
        "## Decision Tree Classifier"
      ]
    },
    {
      "cell_type": "code",
      "metadata": {
        "colab": {
          "base_uri": "https://localhost:8080/"
        },
        "id": "neqVb2nomG7d",
        "outputId": "b2b542fc-152e-488b-ae58-ac48ddedd25f"
      },
      "source": [
        "from sklearn.tree import DecisionTreeClassifier\n",
        "\n",
        "# Model object\n",
        "dt_clf_default = DecisionTreeClassifier() # Default Model\n",
        "\n",
        "# Fit the model\n",
        "dt_clf_default.fit(X_train, y_train)"
      ],
      "execution_count": null,
      "outputs": [
        {
          "output_type": "execute_result",
          "data": {
            "text/plain": [
              "DecisionTreeClassifier(ccp_alpha=0.0, class_weight=None, criterion='gini',\n",
              "                       max_depth=None, max_features=None, max_leaf_nodes=None,\n",
              "                       min_impurity_decrease=0.0, min_impurity_split=None,\n",
              "                       min_samples_leaf=1, min_samples_split=2,\n",
              "                       min_weight_fraction_leaf=0.0, presort='deprecated',\n",
              "                       random_state=None, splitter='best')"
            ]
          },
          "metadata": {
            "tags": []
          },
          "execution_count": 53
        }
      ]
    },
    {
      "cell_type": "code",
      "metadata": {
        "colab": {
          "base_uri": "https://localhost:8080/"
        },
        "id": "P-939YiKpS1c",
        "outputId": "7a421dc1-c4b8-4629-9f40-22d3e9d371ab"
      },
      "source": [
        "# Make predictions and compute metrics\n",
        "predictions_2 = dt_clf_default.predict(X_test)\n",
        "prediction_prob2 = dt_clf_default.predict_proba(X_test)\n",
        "prediction_prob2 = prediction_prob2[ : ,1]\n",
        "\n",
        "# Compute the metrics\n",
        "dt_clf_default_metrics = compute_metrics(y_true=y_test, y_pred=predictions_2, y_score=prediction_prob2, model = \"Decision Tree Default\")\n",
        "dt_clf_default_metrics"
      ],
      "execution_count": null,
      "outputs": [
        {
          "output_type": "execute_result",
          "data": {
            "text/html": [
              "<div>\n",
              "<style scoped>\n",
              "    .dataframe tbody tr th:only-of-type {\n",
              "        vertical-align: middle;\n",
              "    }\n",
              "\n",
              "    .dataframe tbody tr th {\n",
              "        vertical-align: top;\n",
              "    }\n",
              "\n",
              "    .dataframe thead th {\n",
              "        text-align: right;\n",
              "    }\n",
              "</style>\n",
              "<table border=\"1\" class=\"dataframe\">\n",
              "  <thead>\n",
              "    <tr style=\"text-align: right;\">\n",
              "      <th></th>\n",
              "      <th>Accuracy</th>\n",
              "      <th>ROC_AUC_Score</th>\n",
              "      <th>Precision</th>\n",
              "      <th>Recall</th>\n",
              "    </tr>\n",
              "  </thead>\n",
              "  <tbody>\n",
              "    <tr>\n",
              "      <th>Decision Tree Default</th>\n",
              "      <td>0.77249</td>\n",
              "      <td>0.691106</td>\n",
              "      <td>0.518448</td>\n",
              "      <td>0.536688</td>\n",
              "    </tr>\n",
              "  </tbody>\n",
              "</table>\n",
              "</div>"
            ],
            "text/plain": [
              "                       Accuracy  ROC_AUC_Score  Precision    Recall\n",
              "Decision Tree Default   0.77249       0.691106   0.518448  0.536688"
            ]
          },
          "metadata": {
            "tags": []
          },
          "execution_count": 54
        }
      ]
    },
    {
      "cell_type": "code",
      "metadata": {
        "colab": {
          "base_uri": "https://localhost:8080/"
        },
        "id": "tfe1IUPXpr69",
        "outputId": "c3af13dd-2771-40d3-e659-f2a7a8df3016"
      },
      "source": [
        "# Hyperparameter Tuning\n",
        "\n",
        "# set parameters\n",
        "criterion = [\"ginin\", \"entropy\"]\n",
        "splitter = [\"best\", \"random\"]\n",
        "max_depth = [None, 10, 20, 30]\n",
        "min_samples_split = [2,3,4,5,6,8,9,10]\n",
        "min_samples_leaf = [1,2,3,4,5]\n",
        "min_weight_fraction_leaf = [ 0.0, 0.2, 0.4, 0.6, 0.8, 1.0]\n",
        "max_features = [\"auto\", \"sqrt\", \"log2\", None]\n",
        "class_weight = [None, \"balanced\"]\n",
        "\n",
        "\n",
        "# Create a parameter grid\n",
        "params = {\"criterion\" : criterion,\n",
        "          \"splitter\" : splitter,\n",
        "          \"max_depth\" : max_depth,\n",
        "          \"min_samples_split\" : min_samples_split,\n",
        "          \"min_samples_leaf\" : min_samples_leaf,\n",
        "          \"min_weight_fraction_leaf\" : min_weight_fraction_leaf,\n",
        "          \"max_features\" : max_features,\n",
        "          \"class_weight\" : class_weight\n",
        "          }\n",
        "\n",
        "# Model Object\n",
        "dt_clf = DecisionTreeClassifier(random_state=42)\n",
        "\n",
        "# Randomised Search CV\n",
        "rscv_dt_clf = RandomizedSearchCV(dt_clf, params, n_iter=20, n_jobs=-1, cv=3, verbose=1, random_state=42)\n",
        "\n",
        "# Fit the model\n",
        "rscv_dt_clf.fit(X_train, y_train)"
      ],
      "execution_count": null,
      "outputs": [
        {
          "output_type": "stream",
          "text": [
            "Fitting 3 folds for each of 20 candidates, totalling 60 fits\n"
          ],
          "name": "stdout"
        },
        {
          "output_type": "stream",
          "text": [
            "[Parallel(n_jobs=-1)]: Using backend LokyBackend with 2 concurrent workers.\n",
            "[Parallel(n_jobs=-1)]: Done  60 out of  60 | elapsed:    4.4s finished\n"
          ],
          "name": "stderr"
        },
        {
          "output_type": "execute_result",
          "data": {
            "text/plain": [
              "RandomizedSearchCV(cv=3, error_score=nan,\n",
              "                   estimator=DecisionTreeClassifier(ccp_alpha=0.0,\n",
              "                                                    class_weight=None,\n",
              "                                                    criterion='gini',\n",
              "                                                    max_depth=None,\n",
              "                                                    max_features=None,\n",
              "                                                    max_leaf_nodes=None,\n",
              "                                                    min_impurity_decrease=0.0,\n",
              "                                                    min_impurity_split=None,\n",
              "                                                    min_samples_leaf=1,\n",
              "                                                    min_samples_split=2,\n",
              "                                                    min_weight_fraction_leaf=0.0,\n",
              "                                                    presort='deprecated',\n",
              "                                                    random_state=42,\n",
              "                                                    splitter='best'),\n",
              "                   iid...\n",
              "                                        'criterion': ['ginin', 'entropy'],\n",
              "                                        'max_depth': [None, 10, 20, 30],\n",
              "                                        'max_features': ['auto', 'sqrt', 'log2',\n",
              "                                                         None],\n",
              "                                        'min_samples_leaf': [1, 2, 3, 4, 5],\n",
              "                                        'min_samples_split': [2, 3, 4, 5, 6, 8,\n",
              "                                                              9, 10],\n",
              "                                        'min_weight_fraction_leaf': [0.0, 0.2,\n",
              "                                                                     0.4, 0.6,\n",
              "                                                                     0.8, 1.0],\n",
              "                                        'splitter': ['best', 'random']},\n",
              "                   pre_dispatch='2*n_jobs', random_state=42, refit=True,\n",
              "                   return_train_score=False, scoring=None, verbose=1)"
            ]
          },
          "metadata": {
            "tags": []
          },
          "execution_count": 55
        }
      ]
    },
    {
      "cell_type": "code",
      "metadata": {
        "id": "19NmBYrjtRG-"
      },
      "source": [
        "dt_best_estimator = rscv_dt_clf.best_estimator_"
      ],
      "execution_count": null,
      "outputs": []
    },
    {
      "cell_type": "code",
      "metadata": {
        "colab": {
          "base_uri": "https://localhost:8080/"
        },
        "id": "Xg_8MCqDuOHN",
        "outputId": "1313498e-2962-4b3a-fb8a-cb1ec7028fcc"
      },
      "source": [
        "dt_best_estimator.fit(X_train, y_train)"
      ],
      "execution_count": null,
      "outputs": [
        {
          "output_type": "execute_result",
          "data": {
            "text/plain": [
              "DecisionTreeClassifier(ccp_alpha=0.0, class_weight=None, criterion='entropy',\n",
              "                       max_depth=20, max_features='auto', max_leaf_nodes=None,\n",
              "                       min_impurity_decrease=0.0, min_impurity_split=None,\n",
              "                       min_samples_leaf=5, min_samples_split=8,\n",
              "                       min_weight_fraction_leaf=0.0, presort='deprecated',\n",
              "                       random_state=42, splitter='best')"
            ]
          },
          "metadata": {
            "tags": []
          },
          "execution_count": 57
        }
      ]
    },
    {
      "cell_type": "code",
      "metadata": {
        "colab": {
          "base_uri": "https://localhost:8080/"
        },
        "id": "iing3yBqvVRY",
        "outputId": "fc15d69f-d9b3-446c-ca4b-312c559566da"
      },
      "source": [
        "# Make predicitons and compute metrics\n",
        "predictions_3 = dt_best_estimator.predict(X_test)\n",
        "prediction_prob3 = dt_best_estimator.predict_proba(X_test)\n",
        "prediction_prob3 = prediction_prob3[ : , 1]\n",
        "\n",
        "# Compute the metrics\n",
        "dt_clf_best_est_results = compute_metrics(y_test, predictions_3, prediction_prob3, \"Decision Tree Best Estimator\")\n",
        "dt_clf_best_est_results"
      ],
      "execution_count": null,
      "outputs": [
        {
          "output_type": "execute_result",
          "data": {
            "text/html": [
              "<div>\n",
              "<style scoped>\n",
              "    .dataframe tbody tr th:only-of-type {\n",
              "        vertical-align: middle;\n",
              "    }\n",
              "\n",
              "    .dataframe tbody tr th {\n",
              "        vertical-align: top;\n",
              "    }\n",
              "\n",
              "    .dataframe thead th {\n",
              "        text-align: right;\n",
              "    }\n",
              "</style>\n",
              "<table border=\"1\" class=\"dataframe\">\n",
              "  <thead>\n",
              "    <tr style=\"text-align: right;\">\n",
              "      <th></th>\n",
              "      <th>Accuracy</th>\n",
              "      <th>ROC_AUC_Score</th>\n",
              "      <th>Precision</th>\n",
              "      <th>Recall</th>\n",
              "    </tr>\n",
              "  </thead>\n",
              "  <tbody>\n",
              "    <tr>\n",
              "      <th>Decision Tree Best Estimator</th>\n",
              "      <td>0.826778</td>\n",
              "      <td>0.795158</td>\n",
              "      <td>0.680552</td>\n",
              "      <td>0.504516</td>\n",
              "    </tr>\n",
              "  </tbody>\n",
              "</table>\n",
              "</div>"
            ],
            "text/plain": [
              "                              Accuracy  ROC_AUC_Score  Precision    Recall\n",
              "Decision Tree Best Estimator  0.826778       0.795158   0.680552  0.504516"
            ]
          },
          "metadata": {
            "tags": []
          },
          "execution_count": 58
        }
      ]
    },
    {
      "cell_type": "markdown",
      "metadata": {
        "id": "zhbhrU2dwoAo"
      },
      "source": [
        "## Random Forest Classifier"
      ]
    },
    {
      "cell_type": "code",
      "metadata": {
        "id": "J5EP4KuXvwAL"
      },
      "source": [
        "from sklearn.ensemble import RandomForestClassifier\n",
        "\n",
        "# Model Object\n",
        "rf_clf_default = RandomForestClassifier() # Default Model\n",
        "\n",
        "# Fit the model\n",
        "rf_clf_default.fit(X_train, y_train)\n",
        "\n",
        "# Make Predicitons and Compute metrics\n",
        "predictions_4 = rf_clf_default.predict(X_test)\n",
        "prediction_prob4 = rf_clf_default.predict_proba(X_test)[ : , 1]\n",
        "\n",
        "# Compute the metrics\n",
        "rf_clf_default_results = compute_metrics(y_test, predictions_4, prediction_prob4 , model = \"Random Forest Default\")"
      ],
      "execution_count": null,
      "outputs": []
    },
    {
      "cell_type": "code",
      "metadata": {
        "colab": {
          "base_uri": "https://localhost:8080/",
          "height": 80
        },
        "id": "gNDiWyE3xkee",
        "outputId": "6279c106-f54b-4848-e148-2831f4f2cb7f"
      },
      "source": [
        "rf_clf_default_results"
      ],
      "execution_count": null,
      "outputs": [
        {
          "output_type": "execute_result",
          "data": {
            "text/html": [
              "<div>\n",
              "<style scoped>\n",
              "    .dataframe tbody tr th:only-of-type {\n",
              "        vertical-align: middle;\n",
              "    }\n",
              "\n",
              "    .dataframe tbody tr th {\n",
              "        vertical-align: top;\n",
              "    }\n",
              "\n",
              "    .dataframe thead th {\n",
              "        text-align: right;\n",
              "    }\n",
              "</style>\n",
              "<table border=\"1\" class=\"dataframe\">\n",
              "  <thead>\n",
              "    <tr style=\"text-align: right;\">\n",
              "      <th></th>\n",
              "      <th>Accuracy</th>\n",
              "      <th>ROC_AUC_Score</th>\n",
              "      <th>Precision</th>\n",
              "      <th>Recall</th>\n",
              "    </tr>\n",
              "  </thead>\n",
              "  <tbody>\n",
              "    <tr>\n",
              "      <th>Random Forest Default</th>\n",
              "      <td>0.828162</td>\n",
              "      <td>0.825346</td>\n",
              "      <td>0.668611</td>\n",
              "      <td>0.542366</td>\n",
              "    </tr>\n",
              "  </tbody>\n",
              "</table>\n",
              "</div>"
            ],
            "text/plain": [
              "                       Accuracy  ROC_AUC_Score  Precision    Recall\n",
              "Random Forest Default  0.828162       0.825346   0.668611  0.542366"
            ]
          },
          "metadata": {
            "tags": []
          },
          "execution_count": 60
        }
      ]
    },
    {
      "cell_type": "code",
      "metadata": {
        "colab": {
          "base_uri": "https://localhost:8080/"
        },
        "id": "EkvDPBsuyNCc",
        "outputId": "5ceea2fc-c79c-46ea-e841-84ea600b7c26"
      },
      "source": [
        "# Hyperparameter Tuninig\n",
        "from sklearn.ensemble import RandomForestClassifier\n",
        "from sklearn.model_selection import GridSearchCV\n",
        "# Create the parameter grid based on the results of random search \n",
        "param_grid = {\n",
        "    'criterion' : [\"gini\", \"entropy\"],\n",
        "    'bootstrap': [True],\n",
        "    'max_depth': [80, 90, 100, 110],\n",
        "    'max_features': [2, 3],\n",
        "    'min_samples_leaf': [3, 4, 5],\n",
        "    'min_samples_split': [8, 10, 12],\n",
        "    'n_estimators': [100, 200, 300, 500]\n",
        "}\n",
        "# Create a based model\n",
        "rf = RandomForestClassifier()\n",
        "# Instantiate the grid search model\n",
        "grid_search = GridSearchCV(estimator = rf, param_grid = param_grid, \n",
        "                          cv = 3, n_jobs = -1, verbose = 2)\n",
        "\n",
        "# Fit the model\n",
        "grid_search.fit(X_train, y_train)"
      ],
      "execution_count": null,
      "outputs": [
        {
          "output_type": "stream",
          "text": [
            "Fitting 3 folds for each of 576 candidates, totalling 1728 fits\n"
          ],
          "name": "stdout"
        },
        {
          "output_type": "stream",
          "text": [
            "[Parallel(n_jobs=-1)]: Using backend LokyBackend with 2 concurrent workers.\n",
            "/usr/local/lib/python3.7/dist-packages/joblib/externals/loky/process_executor.py:691: UserWarning:\n",
            "\n",
            "A worker stopped while some jobs were given to the executor. This can be caused by a too short worker timeout or by a memory leak.\n",
            "\n",
            "[Parallel(n_jobs=-1)]: Done  37 tasks      | elapsed: 15.7min\n",
            "[Parallel(n_jobs=-1)]: Done 158 tasks      | elapsed: 69.7min\n"
          ],
          "name": "stderr"
        }
      ]
    },
    {
      "cell_type": "code",
      "metadata": {
        "id": "8inPq3vZ4r03"
      },
      "source": [
        "# Make Predicitons and Compute metrics\n",
        "predictions_8 = grid_search.predict(X_test)\n",
        "prediction_prob8 = grid_search.predict_proba(X_test)[ : , 1]\n",
        "\n",
        "# Compute the metrics\n",
        "rf_clf_best_results = compute_metrics(y_test, predictions_8, prediction_prob8 , model = \"Random Forest Best Estimator\")"
      ],
      "execution_count": null,
      "outputs": []
    },
    {
      "cell_type": "markdown",
      "metadata": {
        "id": "7mi6o5n7dkFQ"
      },
      "source": [
        "## XGBoost"
      ]
    },
    {
      "cell_type": "code",
      "metadata": {
        "colab": {
          "base_uri": "https://localhost:8080/"
        },
        "id": "R5_z980Tyzpw",
        "outputId": "dd62d9fd-e7ad-4354-c614-429d3df9d07c"
      },
      "source": [
        "from xgboost import XGBClassifier\n",
        "\n",
        "# Model object\n",
        "xgb_clf = XGBClassifier()\n",
        "\n",
        "# Fit the object\n",
        "xgb_clf.fit(X_train, y_train)"
      ],
      "execution_count": null,
      "outputs": [
        {
          "output_type": "execute_result",
          "data": {
            "text/plain": [
              "XGBClassifier(base_score=0.5, booster='gbtree', colsample_bylevel=1,\n",
              "              colsample_bynode=1, colsample_bytree=1, gamma=0,\n",
              "              learning_rate=0.1, max_delta_step=0, max_depth=3,\n",
              "              min_child_weight=1, missing=None, n_estimators=100, n_jobs=1,\n",
              "              nthread=None, objective='binary:logistic', random_state=0,\n",
              "              reg_alpha=0, reg_lambda=1, scale_pos_weight=1, seed=None,\n",
              "              silent=None, subsample=1, verbosity=1)"
            ]
          },
          "metadata": {
            "tags": []
          },
          "execution_count": 68
        }
      ]
    },
    {
      "cell_type": "code",
      "metadata": {
        "colab": {
          "base_uri": "https://localhost:8080/"
        },
        "id": "_i1j5BJRdwGY",
        "outputId": "1564a65a-f2b3-409d-f0e5-13ea877111c2"
      },
      "source": [
        "# Make predictions and compute metrics\n",
        "predictions_5 = xgb_clf.predict(X_test)\n",
        "prediction_prob5 = xgb_clf.predict_proba(X_test)[ : , 1]\n",
        "\n",
        "# compute the metrics\n",
        "xgb_clf_results = compute_metrics(y_test, predictions_5, prediction_prob5, model = \"XGB Classifier\")\n",
        "xgb_clf_results"
      ],
      "execution_count": null,
      "outputs": [
        {
          "output_type": "execute_result",
          "data": {
            "text/html": [
              "<div>\n",
              "<style scoped>\n",
              "    .dataframe tbody tr th:only-of-type {\n",
              "        vertical-align: middle;\n",
              "    }\n",
              "\n",
              "    .dataframe tbody tr th {\n",
              "        vertical-align: top;\n",
              "    }\n",
              "\n",
              "    .dataframe thead th {\n",
              "        text-align: right;\n",
              "    }\n",
              "</style>\n",
              "<table border=\"1\" class=\"dataframe\">\n",
              "  <thead>\n",
              "    <tr style=\"text-align: right;\">\n",
              "      <th></th>\n",
              "      <th>Accuracy</th>\n",
              "      <th>ROC_AUC_Score</th>\n",
              "      <th>Precision</th>\n",
              "      <th>Recall</th>\n",
              "    </tr>\n",
              "  </thead>\n",
              "  <tbody>\n",
              "    <tr>\n",
              "      <th>XGB Classifier</th>\n",
              "      <td>0.849161</td>\n",
              "      <td>0.85548</td>\n",
              "      <td>0.801288</td>\n",
              "      <td>0.481806</td>\n",
              "    </tr>\n",
              "  </tbody>\n",
              "</table>\n",
              "</div>"
            ],
            "text/plain": [
              "                Accuracy  ROC_AUC_Score  Precision    Recall\n",
              "XGB Classifier  0.849161        0.85548   0.801288  0.481806"
            ]
          },
          "metadata": {
            "tags": []
          },
          "execution_count": 69
        }
      ]
    },
    {
      "cell_type": "markdown",
      "metadata": {
        "id": "G4-utzgMf7ey"
      },
      "source": [
        "## Adaboost Classifier"
      ]
    },
    {
      "cell_type": "code",
      "metadata": {
        "id": "YcoMw6hmeR13"
      },
      "source": [
        "from sklearn.ensemble import AdaBoostClassifier\n",
        "\n",
        "# default model\n",
        "adb_clf = AdaBoostClassifier()\n",
        "\n",
        "# Fit the model\n",
        "adb_clf.fit(X_train, y_train)\n",
        "\n",
        "# Make predictions and compute metrics\n",
        "predictions_5 = adb_clf.predict(X_test)\n",
        "prediction_prob5 = adb_clf.predict_proba(X_test)[ : ,1]"
      ],
      "execution_count": null,
      "outputs": []
    },
    {
      "cell_type": "code",
      "metadata": {
        "id": "EJgWtDB-hD5T"
      },
      "source": [
        "adb_clf_results = compute_metrics(y_test, predictions_5, prediction_prob5, \"AdaBoost Classifier\")"
      ],
      "execution_count": null,
      "outputs": []
    },
    {
      "cell_type": "code",
      "metadata": {
        "colab": {
          "base_uri": "https://localhost:8080/",
          "height": 80
        },
        "id": "Jh6xmFR3hPC9",
        "outputId": "6fb8b2a3-7d5c-46bd-d4fd-e7e7c873c85d"
      },
      "source": [
        "adb_clf_results"
      ],
      "execution_count": null,
      "outputs": [
        {
          "output_type": "execute_result",
          "data": {
            "text/html": [
              "<div>\n",
              "<style scoped>\n",
              "    .dataframe tbody tr th:only-of-type {\n",
              "        vertical-align: middle;\n",
              "    }\n",
              "\n",
              "    .dataframe tbody tr th {\n",
              "        vertical-align: top;\n",
              "    }\n",
              "\n",
              "    .dataframe thead th {\n",
              "        text-align: right;\n",
              "    }\n",
              "</style>\n",
              "<table border=\"1\" class=\"dataframe\">\n",
              "  <thead>\n",
              "    <tr style=\"text-align: right;\">\n",
              "      <th></th>\n",
              "      <th>Accuracy</th>\n",
              "      <th>ROC_AUC_Score</th>\n",
              "      <th>Precision</th>\n",
              "      <th>Recall</th>\n",
              "    </tr>\n",
              "  </thead>\n",
              "  <tbody>\n",
              "    <tr>\n",
              "      <th>AdaBoost Classifier</th>\n",
              "      <td>0.843748</td>\n",
              "      <td>0.84313</td>\n",
              "      <td>0.812184</td>\n",
              "      <td>0.441548</td>\n",
              "    </tr>\n",
              "  </tbody>\n",
              "</table>\n",
              "</div>"
            ],
            "text/plain": [
              "                     Accuracy  ROC_AUC_Score  Precision    Recall\n",
              "AdaBoost Classifier  0.843748        0.84313   0.812184  0.441548"
            ]
          },
          "metadata": {
            "tags": []
          },
          "execution_count": 65
        }
      ]
    },
    {
      "cell_type": "markdown",
      "metadata": {
        "id": "MO4M6tBwg2ls"
      },
      "source": [
        "## SVM"
      ]
    },
    {
      "cell_type": "code",
      "metadata": {
        "id": "eTCjVEppg1S_"
      },
      "source": [
        "from sklearn.svm import SVC\n",
        "\n",
        "# Model object\n",
        "svm_clf = SVC()\n",
        "\n",
        "# Fit the model\n",
        "svm_clf.fit(X_train, y_train)\n",
        "\n",
        "# Make predictions\n",
        "predictions_6 = svm_clf.predict(X_test)\n",
        "#prediction_prob6 = svm_clf.predict_proba(X_test)[ : ,1]"
      ],
      "execution_count": null,
      "outputs": []
    },
    {
      "cell_type": "code",
      "metadata": {
        "id": "OyrHIkbthn2D",
        "colab": {
          "base_uri": "https://localhost:8080/"
        },
        "outputId": "7354fa57-9360-4de2-d01b-83f1ba177449"
      },
      "source": [
        "# Compute metrics\n",
        "svm_clf.decision_function(X_test)"
      ],
      "execution_count": null,
      "outputs": [
        {
          "output_type": "execute_result",
          "data": {
            "text/plain": [
              "array([-0.99969603, -0.99999553, -1.00950751, ..., -1.00016513,\n",
              "       -1.00316666, -0.99976266])"
            ]
          },
          "metadata": {
            "tags": []
          },
          "execution_count": 53
        }
      ]
    },
    {
      "cell_type": "markdown",
      "metadata": {
        "id": "rBYaP2-BiM3c"
      },
      "source": [
        "## Neural Networks"
      ]
    },
    {
      "cell_type": "code",
      "metadata": {
        "id": "rM7ssY3RiD3a",
        "colab": {
          "base_uri": "https://localhost:8080/"
        },
        "outputId": "b02c3aa3-6501-4525-b7f2-a611160e24f2"
      },
      "source": [
        "import tensorflow as tf\n",
        "import keras\n",
        "from keras.layers import Dense, Dropout\n",
        "from keras.callbacks import EarlyStopping\n",
        "from keras.models import Sequential\n",
        "\n",
        "\n",
        "# Build a sequential model\n",
        "model = Sequential()\n",
        "\n",
        "# Add layers\n",
        "model.add(Dense(50, activation='relu', input_shape = (X_train.shape[-1],)))\n",
        "model.add(Dense(100, activation='relu'))\n",
        "model.add(Dropout(0.50))\n",
        "model.add(Dense(150, activation='relu'))\n",
        "model.add(Dense(1, activation = 'sigmoid'))\n",
        "\n",
        "# buld the model\n",
        "print(model.summary())\n",
        "\n",
        "# Compile the model\n",
        "metric = tf.metrics.AUC(from_logits=True)\n",
        "model.compile(optimizer='sgd', loss='binary_crossentropy', metrics=metric)\n",
        "hist = model.fit(X_train, y_train, epochs=100, validation_split=0.2, callbacks=EarlyStopping(patience=10))"
      ],
      "execution_count": null,
      "outputs": [
        {
          "output_type": "stream",
          "text": [
            "Model: \"sequential_7\"\n",
            "_________________________________________________________________\n",
            "Layer (type)                 Output Shape              Param #   \n",
            "=================================================================\n",
            "dense_21 (Dense)             (None, 50)                700       \n",
            "_________________________________________________________________\n",
            "dense_22 (Dense)             (None, 100)               5100      \n",
            "_________________________________________________________________\n",
            "dropout_5 (Dropout)          (None, 100)               0         \n",
            "_________________________________________________________________\n",
            "dense_23 (Dense)             (None, 150)               15150     \n",
            "_________________________________________________________________\n",
            "dense_24 (Dense)             (None, 1)                 151       \n",
            "=================================================================\n",
            "Total params: 21,101\n",
            "Trainable params: 21,101\n",
            "Non-trainable params: 0\n",
            "_________________________________________________________________\n",
            "None\n",
            "Epoch 1/100\n",
            "4915/4915 [==============================] - 17s 3ms/step - loss: 0.4867 - auc_2: 0.6300 - val_loss: 0.3891 - val_auc_2: 0.7961\n",
            "Epoch 2/100\n",
            "4915/4915 [==============================] - 16s 3ms/step - loss: 0.3932 - auc_2: 0.8051 - val_loss: 0.3862 - val_auc_2: 0.8157\n",
            "Epoch 3/100\n",
            "4915/4915 [==============================] - 16s 3ms/step - loss: 0.3890 - auc_2: 0.8182 - val_loss: 0.3830 - val_auc_2: 0.8226\n",
            "Epoch 4/100\n",
            "4915/4915 [==============================] - 16s 3ms/step - loss: 0.3833 - auc_2: 0.8240 - val_loss: 0.3812 - val_auc_2: 0.8263\n",
            "Epoch 5/100\n",
            "4915/4915 [==============================] - 16s 3ms/step - loss: 0.3845 - auc_2: 0.8272 - val_loss: 0.3801 - val_auc_2: 0.8290\n",
            "Epoch 6/100\n",
            "4915/4915 [==============================] - 16s 3ms/step - loss: 0.3832 - auc_2: 0.8295 - val_loss: 0.3791 - val_auc_2: 0.8308\n",
            "Epoch 7/100\n",
            "4915/4915 [==============================] - 16s 3ms/step - loss: 0.3844 - auc_2: 0.8312 - val_loss: 0.3780 - val_auc_2: 0.8322\n",
            "Epoch 8/100\n",
            "4915/4915 [==============================] - 16s 3ms/step - loss: 0.3812 - auc_2: 0.8326 - val_loss: 0.3780 - val_auc_2: 0.8335\n",
            "Epoch 9/100\n",
            "4915/4915 [==============================] - 16s 3ms/step - loss: 0.3819 - auc_2: 0.8337 - val_loss: 0.3776 - val_auc_2: 0.8345\n",
            "Epoch 10/100\n",
            "4915/4915 [==============================] - 16s 3ms/step - loss: 0.3779 - auc_2: 0.8347 - val_loss: 0.3764 - val_auc_2: 0.8353\n",
            "Epoch 11/100\n",
            "4915/4915 [==============================] - 16s 3ms/step - loss: 0.3786 - auc_2: 0.8355 - val_loss: 0.3757 - val_auc_2: 0.8361\n",
            "Epoch 12/100\n",
            "4915/4915 [==============================] - 16s 3ms/step - loss: 0.3785 - auc_2: 0.8363 - val_loss: 0.3763 - val_auc_2: 0.8368\n",
            "Epoch 13/100\n",
            "4915/4915 [==============================] - 16s 3ms/step - loss: 0.3775 - auc_2: 0.8370 - val_loss: 0.3747 - val_auc_2: 0.8374\n",
            "Epoch 14/100\n",
            "4915/4915 [==============================] - 16s 3ms/step - loss: 0.3756 - auc_2: 0.8376 - val_loss: 0.3748 - val_auc_2: 0.8380\n",
            "Epoch 15/100\n",
            "4915/4915 [==============================] - 16s 3ms/step - loss: 0.3753 - auc_2: 0.8381 - val_loss: 0.3748 - val_auc_2: 0.8385\n",
            "Epoch 16/100\n",
            "4915/4915 [==============================] - 16s 3ms/step - loss: 0.3754 - auc_2: 0.8386 - val_loss: 0.3742 - val_auc_2: 0.8390\n",
            "Epoch 17/100\n",
            "4915/4915 [==============================] - 16s 3ms/step - loss: 0.3751 - auc_2: 0.8391 - val_loss: 0.3733 - val_auc_2: 0.8394\n",
            "Epoch 18/100\n",
            "4915/4915 [==============================] - 16s 3ms/step - loss: 0.3728 - auc_2: 0.8396 - val_loss: 0.3733 - val_auc_2: 0.8399\n",
            "Epoch 19/100\n",
            "4915/4915 [==============================] - 16s 3ms/step - loss: 0.3726 - auc_2: 0.8400 - val_loss: 0.3735 - val_auc_2: 0.8403\n",
            "Epoch 20/100\n",
            "4915/4915 [==============================] - 16s 3ms/step - loss: 0.3726 - auc_2: 0.8404 - val_loss: 0.3726 - val_auc_2: 0.8406\n",
            "Epoch 21/100\n",
            "4915/4915 [==============================] - 16s 3ms/step - loss: 0.3751 - auc_2: 0.8407 - val_loss: 0.3724 - val_auc_2: 0.8410\n",
            "Epoch 22/100\n",
            "4915/4915 [==============================] - 16s 3ms/step - loss: 0.3731 - auc_2: 0.8411 - val_loss: 0.3725 - val_auc_2: 0.8413\n",
            "Epoch 23/100\n",
            "4915/4915 [==============================] - 16s 3ms/step - loss: 0.3717 - auc_2: 0.8414 - val_loss: 0.3727 - val_auc_2: 0.8417\n",
            "Epoch 24/100\n",
            "4915/4915 [==============================] - 16s 3ms/step - loss: 0.3717 - auc_2: 0.8418 - val_loss: 0.3720 - val_auc_2: 0.8420\n",
            "Epoch 25/100\n",
            "4915/4915 [==============================] - 16s 3ms/step - loss: 0.3717 - auc_2: 0.8421 - val_loss: 0.3715 - val_auc_2: 0.8423\n",
            "Epoch 26/100\n",
            "4915/4915 [==============================] - 16s 3ms/step - loss: 0.3713 - auc_2: 0.8424 - val_loss: 0.3714 - val_auc_2: 0.8426\n",
            "Epoch 27/100\n",
            "4915/4915 [==============================] - 16s 3ms/step - loss: 0.3709 - auc_2: 0.8427 - val_loss: 0.3714 - val_auc_2: 0.8428\n",
            "Epoch 28/100\n",
            "4915/4915 [==============================] - 16s 3ms/step - loss: 0.3690 - auc_2: 0.8429 - val_loss: 0.3715 - val_auc_2: 0.8431\n",
            "Epoch 29/100\n",
            "4915/4915 [==============================] - 16s 3ms/step - loss: 0.3716 - auc_2: 0.8432 - val_loss: 0.3711 - val_auc_2: 0.8434\n",
            "Epoch 30/100\n",
            "4915/4915 [==============================] - 16s 3ms/step - loss: 0.3723 - auc_2: 0.8434 - val_loss: 0.3711 - val_auc_2: 0.8436\n",
            "Epoch 31/100\n",
            "4915/4915 [==============================] - 16s 3ms/step - loss: 0.3702 - auc_2: 0.8436 - val_loss: 0.3715 - val_auc_2: 0.8438\n",
            "Epoch 32/100\n",
            "4915/4915 [==============================] - 16s 3ms/step - loss: 0.3705 - auc_2: 0.8439 - val_loss: 0.3716 - val_auc_2: 0.8440\n",
            "Epoch 33/100\n",
            "4915/4915 [==============================] - 16s 3ms/step - loss: 0.3688 - auc_2: 0.8441 - val_loss: 0.3705 - val_auc_2: 0.8442\n",
            "Epoch 34/100\n",
            "4915/4915 [==============================] - 16s 3ms/step - loss: 0.3706 - auc_2: 0.8443 - val_loss: 0.3706 - val_auc_2: 0.8445\n",
            "Epoch 35/100\n",
            "4915/4915 [==============================] - 16s 3ms/step - loss: 0.3700 - auc_2: 0.8445 - val_loss: 0.3706 - val_auc_2: 0.8447\n",
            "Epoch 36/100\n",
            "4915/4915 [==============================] - 16s 3ms/step - loss: 0.3692 - auc_2: 0.8447 - val_loss: 0.3705 - val_auc_2: 0.8448\n",
            "Epoch 37/100\n",
            "4915/4915 [==============================] - 16s 3ms/step - loss: 0.3682 - auc_2: 0.8449 - val_loss: 0.3710 - val_auc_2: 0.8450\n",
            "Epoch 38/100\n",
            "4915/4915 [==============================] - 16s 3ms/step - loss: 0.3704 - auc_2: 0.8451 - val_loss: 0.3704 - val_auc_2: 0.8452\n",
            "Epoch 39/100\n",
            "4915/4915 [==============================] - 16s 3ms/step - loss: 0.3668 - auc_2: 0.8453 - val_loss: 0.3699 - val_auc_2: 0.8454\n",
            "Epoch 40/100\n",
            "4915/4915 [==============================] - 16s 3ms/step - loss: 0.3697 - auc_2: 0.8454 - val_loss: 0.3695 - val_auc_2: 0.8456\n",
            "Epoch 41/100\n",
            "4915/4915 [==============================] - 16s 3ms/step - loss: 0.3689 - auc_2: 0.8456 - val_loss: 0.3708 - val_auc_2: 0.8457\n",
            "Epoch 42/100\n",
            "4915/4915 [==============================] - 16s 3ms/step - loss: 0.3695 - auc_2: 0.8458 - val_loss: 0.3702 - val_auc_2: 0.8459\n",
            "Epoch 43/100\n",
            "4915/4915 [==============================] - 16s 3ms/step - loss: 0.3695 - auc_2: 0.8459 - val_loss: 0.3693 - val_auc_2: 0.8461\n",
            "Epoch 44/100\n",
            "4915/4915 [==============================] - 16s 3ms/step - loss: 0.3679 - auc_2: 0.8461 - val_loss: 0.3720 - val_auc_2: 0.8462\n",
            "Epoch 45/100\n",
            "4915/4915 [==============================] - 16s 3ms/step - loss: 0.3673 - auc_2: 0.8462 - val_loss: 0.3693 - val_auc_2: 0.8464\n",
            "Epoch 46/100\n",
            "4915/4915 [==============================] - 16s 3ms/step - loss: 0.3692 - auc_2: 0.8464 - val_loss: 0.3700 - val_auc_2: 0.8465\n",
            "Epoch 47/100\n",
            "4915/4915 [==============================] - 16s 3ms/step - loss: 0.3663 - auc_2: 0.8465 - val_loss: 0.3692 - val_auc_2: 0.8466\n",
            "Epoch 48/100\n",
            "4915/4915 [==============================] - 16s 3ms/step - loss: 0.3657 - auc_2: 0.8467 - val_loss: 0.3699 - val_auc_2: 0.8468\n",
            "Epoch 49/100\n",
            "4915/4915 [==============================] - 16s 3ms/step - loss: 0.3661 - auc_2: 0.8468 - val_loss: 0.3689 - val_auc_2: 0.8469\n",
            "Epoch 50/100\n",
            "4915/4915 [==============================] - 16s 3ms/step - loss: 0.3676 - auc_2: 0.8469 - val_loss: 0.3688 - val_auc_2: 0.8470\n",
            "Epoch 51/100\n",
            "4915/4915 [==============================] - 16s 3ms/step - loss: 0.3651 - auc_2: 0.8471 - val_loss: 0.3694 - val_auc_2: 0.8472\n",
            "Epoch 52/100\n",
            "4915/4915 [==============================] - 16s 3ms/step - loss: 0.3676 - auc_2: 0.8472 - val_loss: 0.3701 - val_auc_2: 0.8473\n",
            "Epoch 53/100\n",
            "4915/4915 [==============================] - 16s 3ms/step - loss: 0.3702 - auc_2: 0.8473 - val_loss: 0.3690 - val_auc_2: 0.8474\n",
            "Epoch 54/100\n",
            "4915/4915 [==============================] - 16s 3ms/step - loss: 0.3668 - auc_2: 0.8475 - val_loss: 0.3710 - val_auc_2: 0.8476\n",
            "Epoch 55/100\n",
            "4915/4915 [==============================] - 16s 3ms/step - loss: 0.3683 - auc_2: 0.8476 - val_loss: 0.3701 - val_auc_2: 0.8477\n",
            "Epoch 56/100\n",
            "4915/4915 [==============================] - 16s 3ms/step - loss: 0.3668 - auc_2: 0.8477 - val_loss: 0.3684 - val_auc_2: 0.8478\n",
            "Epoch 57/100\n",
            "4915/4915 [==============================] - 17s 3ms/step - loss: 0.3666 - auc_2: 0.8479 - val_loss: 0.3689 - val_auc_2: 0.8479\n",
            "Epoch 58/100\n",
            "4915/4915 [==============================] - 16s 3ms/step - loss: 0.3647 - auc_2: 0.8479 - val_loss: 0.3689 - val_auc_2: 0.8480\n",
            "Epoch 59/100\n",
            "4915/4915 [==============================] - 16s 3ms/step - loss: 0.3648 - auc_2: 0.8481 - val_loss: 0.3684 - val_auc_2: 0.8481\n",
            "Epoch 60/100\n",
            "4915/4915 [==============================] - 16s 3ms/step - loss: 0.3664 - auc_2: 0.8482 - val_loss: 0.3686 - val_auc_2: 0.8483\n",
            "Epoch 61/100\n",
            "4915/4915 [==============================] - 16s 3ms/step - loss: 0.3664 - auc_2: 0.8483 - val_loss: 0.3680 - val_auc_2: 0.8484\n",
            "Epoch 62/100\n",
            "4915/4915 [==============================] - 16s 3ms/step - loss: 0.3656 - auc_2: 0.8484 - val_loss: 0.3676 - val_auc_2: 0.8485\n",
            "Epoch 63/100\n",
            "4915/4915 [==============================] - 16s 3ms/step - loss: 0.3658 - auc_2: 0.8485 - val_loss: 0.3697 - val_auc_2: 0.8486\n",
            "Epoch 64/100\n",
            "4915/4915 [==============================] - 16s 3ms/step - loss: 0.3673 - auc_2: 0.8486 - val_loss: 0.3685 - val_auc_2: 0.8487\n",
            "Epoch 65/100\n",
            "4915/4915 [==============================] - 16s 3ms/step - loss: 0.3663 - auc_2: 0.8487 - val_loss: 0.3685 - val_auc_2: 0.8488\n",
            "Epoch 66/100\n",
            "4915/4915 [==============================] - 16s 3ms/step - loss: 0.3645 - auc_2: 0.8488 - val_loss: 0.3696 - val_auc_2: 0.8489\n",
            "Epoch 67/100\n",
            "4915/4915 [==============================] - 17s 3ms/step - loss: 0.3663 - auc_2: 0.8489 - val_loss: 0.3688 - val_auc_2: 0.8490\n",
            "Epoch 68/100\n",
            "4915/4915 [==============================] - 16s 3ms/step - loss: 0.3680 - auc_2: 0.8490 - val_loss: 0.3678 - val_auc_2: 0.8491\n",
            "Epoch 69/100\n",
            "4915/4915 [==============================] - 16s 3ms/step - loss: 0.3648 - auc_2: 0.8491 - val_loss: 0.3676 - val_auc_2: 0.8492\n",
            "Epoch 70/100\n",
            "4915/4915 [==============================] - 16s 3ms/step - loss: 0.3643 - auc_2: 0.8492 - val_loss: 0.3702 - val_auc_2: 0.8493\n",
            "Epoch 71/100\n",
            "4915/4915 [==============================] - 16s 3ms/step - loss: 0.3650 - auc_2: 0.8493 - val_loss: 0.3670 - val_auc_2: 0.8494\n",
            "Epoch 72/100\n",
            "4915/4915 [==============================] - 16s 3ms/step - loss: 0.3636 - auc_2: 0.8494 - val_loss: 0.3677 - val_auc_2: 0.8495\n",
            "Epoch 73/100\n",
            "4915/4915 [==============================] - 16s 3ms/step - loss: 0.3652 - auc_2: 0.8495 - val_loss: 0.3681 - val_auc_2: 0.8495\n",
            "Epoch 74/100\n",
            "4915/4915 [==============================] - 16s 3ms/step - loss: 0.3636 - auc_2: 0.8496 - val_loss: 0.3689 - val_auc_2: 0.8496\n",
            "Epoch 75/100\n",
            "4915/4915 [==============================] - 16s 3ms/step - loss: 0.3646 - auc_2: 0.8497 - val_loss: 0.3692 - val_auc_2: 0.8497\n",
            "Epoch 76/100\n",
            "4915/4915 [==============================] - 16s 3ms/step - loss: 0.3612 - auc_2: 0.8498 - val_loss: 0.3685 - val_auc_2: 0.8498\n",
            "Epoch 77/100\n",
            "4915/4915 [==============================] - 17s 3ms/step - loss: 0.3628 - auc_2: 0.8498 - val_loss: 0.3690 - val_auc_2: 0.8499\n",
            "Epoch 78/100\n",
            "4915/4915 [==============================] - 16s 3ms/step - loss: 0.3656 - auc_2: 0.8499 - val_loss: 0.3687 - val_auc_2: 0.8500\n",
            "Epoch 79/100\n",
            "4915/4915 [==============================] - 16s 3ms/step - loss: 0.3641 - auc_2: 0.8500 - val_loss: 0.3677 - val_auc_2: 0.8500\n",
            "Epoch 80/100\n",
            "4915/4915 [==============================] - 16s 3ms/step - loss: 0.3645 - auc_2: 0.8501 - val_loss: 0.3676 - val_auc_2: 0.8501\n",
            "Epoch 81/100\n",
            "4915/4915 [==============================] - 16s 3ms/step - loss: 0.3651 - auc_2: 0.8502 - val_loss: 0.3683 - val_auc_2: 0.8502\n"
          ],
          "name": "stdout"
        }
      ]
    },
    {
      "cell_type": "code",
      "metadata": {
        "colab": {
          "base_uri": "https://localhost:8080/",
          "height": 236
        },
        "id": "OClFJL2lv62X",
        "outputId": "e908165c-47cc-40a8-e51d-ec41451287f9"
      },
      "source": [
        "# make predictions and compute metrics\n",
        "predictions_7 = model.predict_classes(X_test)\n",
        "prediction_prob7 = model.predict_proba(X_test)\n",
        "\n",
        "# Compute metrics\n",
        "nn_model_metrics = compute_metrics(y_test, predictions_7, prediction_prob7, \"Neural Network\")\n",
        "nn_model_metrics"
      ],
      "execution_count": null,
      "outputs": [
        {
          "output_type": "stream",
          "text": [
            "/usr/local/lib/python3.7/dist-packages/keras/engine/sequential.py:450: UserWarning:\n",
            "\n",
            "`model.predict_classes()` is deprecated and will be removed after 2021-01-01. Please use instead:* `np.argmax(model.predict(x), axis=-1)`,   if your model does multi-class classification   (e.g. if it uses a `softmax` last-layer activation).* `(model.predict(x) > 0.5).astype(\"int32\")`,   if your model does binary classification   (e.g. if it uses a `sigmoid` last-layer activation).\n",
            "\n",
            "/usr/local/lib/python3.7/dist-packages/keras/engine/sequential.py:425: UserWarning:\n",
            "\n",
            "`model.predict_proba()` is deprecated and will be removed after 2021-01-01. Please use `model.predict()` instead.\n",
            "\n"
          ],
          "name": "stderr"
        },
        {
          "output_type": "execute_result",
          "data": {
            "text/html": [
              "<div>\n",
              "<style scoped>\n",
              "    .dataframe tbody tr th:only-of-type {\n",
              "        vertical-align: middle;\n",
              "    }\n",
              "\n",
              "    .dataframe tbody tr th {\n",
              "        vertical-align: top;\n",
              "    }\n",
              "\n",
              "    .dataframe thead th {\n",
              "        text-align: right;\n",
              "    }\n",
              "</style>\n",
              "<table border=\"1\" class=\"dataframe\">\n",
              "  <thead>\n",
              "    <tr style=\"text-align: right;\">\n",
              "      <th></th>\n",
              "      <th>Accuracy</th>\n",
              "      <th>ROC_AUC_Score</th>\n",
              "      <th>Precision</th>\n",
              "      <th>Recall</th>\n",
              "    </tr>\n",
              "  </thead>\n",
              "  <tbody>\n",
              "    <tr>\n",
              "      <th>Neural Network</th>\n",
              "      <td>0.849893</td>\n",
              "      <td>0.85391</td>\n",
              "      <td>0.805524</td>\n",
              "      <td>0.48172</td>\n",
              "    </tr>\n",
              "  </tbody>\n",
              "</table>\n",
              "</div>"
            ],
            "text/plain": [
              "                Accuracy  ROC_AUC_Score  Precision   Recall\n",
              "Neural Network  0.849893        0.85391   0.805524  0.48172"
            ]
          },
          "metadata": {
            "tags": []
          },
          "execution_count": 81
        }
      ]
    },
    {
      "cell_type": "code",
      "metadata": {
        "id": "VP94EDaukQVZ"
      },
      "source": [
        ""
      ],
      "execution_count": null,
      "outputs": []
    },
    {
      "cell_type": "markdown",
      "metadata": {
        "id": "SYqtVmEorY0Z"
      },
      "source": [
        "# Predictions"
      ]
    },
    {
      "cell_type": "markdown",
      "metadata": {
        "id": "kF6nImWDramY"
      },
      "source": [
        "## Approach 1\n",
        "\n",
        "\n",
        "*   Logistic Regression\n",
        "*   Decision Tree\n",
        "*   Random Forest Classifier\n",
        "*   XGBoost Classifier\n",
        "*   AdaBoost Classifier\n",
        "*   Neural Network\n",
        "\n",
        "\n",
        "\n",
        "\n",
        "\n"
      ]
    },
    {
      "cell_type": "code",
      "metadata": {
        "id": "iWS60l3hz96Q"
      },
      "source": [
        "final_testing_data.rename(columns={'Credit_Product_Unknown' : 'Credit_Product_Unkown'}, inplace=True)"
      ],
      "execution_count": null,
      "outputs": []
    },
    {
      "cell_type": "code",
      "metadata": {
        "colab": {
          "base_uri": "https://localhost:8080/",
          "height": 266
        },
        "id": "PWhCjXpm03QX",
        "outputId": "45bcc43e-e100-41ac-be85-e22eaee02b0c"
      },
      "source": [
        "# Compare the models\n",
        "approach_1_result_metrics = pd.concat([log_reg_results, \n",
        "                                       dt_clf_default_metrics, \n",
        "                                       dt_clf_best_est_results, \n",
        "                                       rf_clf_default_results,\n",
        "                                       xgb_clf_results,\n",
        "                                       adb_clf_results,\n",
        "                                       nn_model_metrics]).sort_values(['ROC_AUC_Score'], ascending=False)\n",
        "approach_1_result_metrics"
      ],
      "execution_count": null,
      "outputs": [
        {
          "output_type": "execute_result",
          "data": {
            "text/html": [
              "<div>\n",
              "<style scoped>\n",
              "    .dataframe tbody tr th:only-of-type {\n",
              "        vertical-align: middle;\n",
              "    }\n",
              "\n",
              "    .dataframe tbody tr th {\n",
              "        vertical-align: top;\n",
              "    }\n",
              "\n",
              "    .dataframe thead th {\n",
              "        text-align: right;\n",
              "    }\n",
              "</style>\n",
              "<table border=\"1\" class=\"dataframe\">\n",
              "  <thead>\n",
              "    <tr style=\"text-align: right;\">\n",
              "      <th></th>\n",
              "      <th>Accuracy</th>\n",
              "      <th>ROC_AUC_Score</th>\n",
              "      <th>Precision</th>\n",
              "      <th>Recall</th>\n",
              "    </tr>\n",
              "  </thead>\n",
              "  <tbody>\n",
              "    <tr>\n",
              "      <th>XGB Classifier</th>\n",
              "      <td>0.849751</td>\n",
              "      <td>0.856093</td>\n",
              "      <td>0.789963</td>\n",
              "      <td>0.496946</td>\n",
              "    </tr>\n",
              "    <tr>\n",
              "      <th>Neural Network</th>\n",
              "      <td>0.849893</td>\n",
              "      <td>0.853910</td>\n",
              "      <td>0.805524</td>\n",
              "      <td>0.481720</td>\n",
              "    </tr>\n",
              "    <tr>\n",
              "      <th>AdaBoost Classifier</th>\n",
              "      <td>0.843443</td>\n",
              "      <td>0.842918</td>\n",
              "      <td>0.805060</td>\n",
              "      <td>0.446194</td>\n",
              "    </tr>\n",
              "    <tr>\n",
              "      <th>Logistic Regression</th>\n",
              "      <td>0.842771</td>\n",
              "      <td>0.828744</td>\n",
              "      <td>0.834650</td>\n",
              "      <td>0.418151</td>\n",
              "    </tr>\n",
              "    <tr>\n",
              "      <th>Random Forest Default</th>\n",
              "      <td>0.826880</td>\n",
              "      <td>0.825343</td>\n",
              "      <td>0.665253</td>\n",
              "      <td>0.539699</td>\n",
              "    </tr>\n",
              "    <tr>\n",
              "      <th>Decision Tree Best Estimator</th>\n",
              "      <td>0.832353</td>\n",
              "      <td>0.806976</td>\n",
              "      <td>0.694866</td>\n",
              "      <td>0.519312</td>\n",
              "    </tr>\n",
              "    <tr>\n",
              "      <th>Decision Tree Default</th>\n",
              "      <td>0.771899</td>\n",
              "      <td>0.690987</td>\n",
              "      <td>0.517176</td>\n",
              "      <td>0.537462</td>\n",
              "    </tr>\n",
              "  </tbody>\n",
              "</table>\n",
              "</div>"
            ],
            "text/plain": [
              "                              Accuracy  ROC_AUC_Score  Precision    Recall\n",
              "XGB Classifier                0.849751       0.856093   0.789963  0.496946\n",
              "Neural Network                0.849893       0.853910   0.805524  0.481720\n",
              "AdaBoost Classifier           0.843443       0.842918   0.805060  0.446194\n",
              "Logistic Regression           0.842771       0.828744   0.834650  0.418151\n",
              "Random Forest Default         0.826880       0.825343   0.665253  0.539699\n",
              "Decision Tree Best Estimator  0.832353       0.806976   0.694866  0.519312\n",
              "Decision Tree Default         0.771899       0.690987   0.517176  0.537462"
            ]
          },
          "metadata": {
            "tags": []
          },
          "execution_count": 127
        }
      ]
    },
    {
      "cell_type": "code",
      "metadata": {
        "id": "mOfdgKXlraFC"
      },
      "source": [
        "def make_predictions(model, model_object, data, id_column, path=\"/content/\"):\n",
        "\n",
        "  if model != \"NeuralNetwork\":\n",
        "    # make predictions\n",
        "    predictions = model_object.predict(data)\n",
        "  else:\n",
        "    predictions = model_object.predict_classes(data).reshape((-1,))\n",
        "\n",
        "  # Concatenate the predictions and the ID\n",
        "  prediction_df = pd.DataFrame({\"ID\" : test_ID, \"Is_Lead\" : predictions})\n",
        "\n",
        "  # store into .csv\n",
        "  dest = path + model + \"_\" + \"submissions.csv\"\n",
        "  prediction_df.to_csv(dest, index=False)"
      ],
      "execution_count": null,
      "outputs": []
    },
    {
      "cell_type": "code",
      "metadata": {
        "colab": {
          "base_uri": "https://localhost:8080/"
        },
        "id": "glaSg3FJu0gf",
        "outputId": "a94f7cf8-3a6d-49a6-b803-cc3e7645abd1"
      },
      "source": [
        "models = {\"LogisticRegression\" : lg_clf, \n",
        "          \"DecisionTree\" : dt_best_estimator, \n",
        "          \"RandomForest\" : rf_clf_default,\n",
        "          \"XGBoost\" : xgb_clf,\n",
        "          \"AdaBoost\" : adb_clf,\n",
        "          \"NeuralNetwork\" : model\n",
        "          }\n",
        "\n",
        "# Iterate over the itemrs and Call the above method\n",
        "for mod, model_obj in models.items():\n",
        "  make_predictions(model = mod, model_object=model_obj, data=final_testing_data, id_column = test_ID)"
      ],
      "execution_count": null,
      "outputs": [
        {
          "output_type": "stream",
          "text": [
            "/usr/local/lib/python3.7/dist-packages/keras/engine/sequential.py:450: UserWarning:\n",
            "\n",
            "`model.predict_classes()` is deprecated and will be removed after 2021-01-01. Please use instead:* `np.argmax(model.predict(x), axis=-1)`,   if your model does multi-class classification   (e.g. if it uses a `softmax` last-layer activation).* `(model.predict(x) > 0.5).astype(\"int32\")`,   if your model does binary classification   (e.g. if it uses a `sigmoid` last-layer activation).\n",
            "\n"
          ],
          "name": "stderr"
        }
      ]
    },
    {
      "cell_type": "code",
      "metadata": {
        "colab": {
          "base_uri": "https://localhost:8080/"
        },
        "id": "fGzOddPoy3nk",
        "outputId": "f18aaf3a-51ef-461e-c9db-195038a4119c"
      },
      "source": [
        "final_testing_data.shape"
      ],
      "execution_count": null,
      "outputs": [
        {
          "output_type": "execute_result",
          "data": {
            "text/plain": [
              "(105312, 13)"
            ]
          },
          "metadata": {
            "tags": []
          },
          "execution_count": 128
        }
      ]
    },
    {
      "cell_type": "code",
      "metadata": {
        "id": "APDkdOun2-m6"
      },
      "source": [
        ""
      ],
      "execution_count": null,
      "outputs": []
    }
  ]
}
